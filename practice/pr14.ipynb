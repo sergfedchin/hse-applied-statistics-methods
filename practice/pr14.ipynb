{
 "cells": [
  {
   "cell_type": "code",
   "execution_count": 1,
   "metadata": {},
   "outputs": [],
   "source": [
    "import numpy as np\n",
    "import scipy.stats as sps\n",
    "from itertools import product, zip_longest\n",
    "from collections.abc import Iterable, Sequence, Callable\n",
    "from scipy.optimize import brentq\n",
    "from tqdm import tqdm, trange\n",
    "from matplotlib import pyplot as plt"
   ]
  },
  {
   "cell_type": "markdown",
   "metadata": {},
   "source": [
    "Определим функции и диапазоны параметров"
   ]
  },
  {
   "cell_type": "code",
   "execution_count": 2,
   "metadata": {},
   "outputs": [],
   "source": [
    "def f_1(x: float, a: Sequence):\n",
    "    res = x**2 * a[2] + x * a[1] + a[0]\n",
    "    # print(f'call f_1 x={x}, a={a} = {res}')\n",
    "    return res\n",
    "\n",
    "def f_2(x: float, a: Sequence):\n",
    "    return np.exp(a[2] * x) + a[1] * x + a[0]\n",
    "\n",
    "params_1 = [(-0.1, 0.1), (-0.1, 0.1), (1, 1.1)]\n",
    "params_2 = [(1.1, 1.2), (1.9, 2.1), (1.0, 1.1)]"
   ]
  },
  {
   "cell_type": "markdown",
   "metadata": {},
   "source": [
    "Далее нам придётся находить корни функций на интервалах (по одному на каждом интервале). Определим для удобства соответствующую функцию, применяющую к каждому интервалу солвер `brentq` из `scipy.optimize`."
   ]
  },
  {
   "cell_type": "code",
   "execution_count": 3,
   "metadata": {},
   "outputs": [],
   "source": [
    "def find_all_roots_on_intervals(func: Callable[[float, Sequence[float]], float],\n",
    "                                intervals: list[tuple[float, float]],\n",
    "                                args: tuple = ()\n",
    "                                ) -> list[float]:\n",
    "    # Find roots in each subinterval\n",
    "    roots = []\n",
    "    for interval in intervals:\n",
    "        try:\n",
    "            root = brentq(func, *interval, args=args)\n",
    "            if not np.isclose(roots, root).any():\n",
    "                roots.append(root)\n",
    "        except ValueError:\n",
    "            # No root in this interval, skip\n",
    "            pass\n",
    "    return roots"
   ]
  },
  {
   "cell_type": "markdown",
   "metadata": {},
   "source": [
    "Определим метод Монте-Карло нахождения погрешностей корней "
   ]
  },
  {
   "cell_type": "code",
   "execution_count": 4,
   "metadata": {},
   "outputs": [],
   "source": [
    "def monte_carlo_roots_error_estimate(params: Sequence[tuple[float, float]],\n",
    "                                     iterations: int,\n",
    "                                     func: Callable[[float, Sequence[float]], float],\n",
    "                                     n_roots: int = 1,\n",
    "                                     root_intervals: Sequence[tuple[float, float]] = [(-1000, 1000)]\n",
    "                                     ) -> list[tuple[float, float]]:\n",
    "    roots_values = []\n",
    "    for _ in trange(iterations):\n",
    "        # generate params\n",
    "        cur_params = [np.random.uniform(*param_boundaries) for param_boundaries in params]\n",
    "        roots = find_all_roots_on_intervals(func, root_intervals, args=(cur_params,))\n",
    "        if len(roots) != n_roots:\n",
    "            continue\n",
    "        else:\n",
    "            roots_values.append(roots)\n",
    "    res = []\n",
    "    for root_values in np.transpose(roots_values):\n",
    "        res.append((np.min(root_values), np.max(root_values)))\n",
    "    return res"
   ]
  },
  {
   "cell_type": "markdown",
   "metadata": {},
   "source": [
    "Посмотрим, какие границы он определит для каждой функции"
   ]
  },
  {
   "cell_type": "code",
   "execution_count": 5,
   "metadata": {},
   "outputs": [
    {
     "name": "stderr",
     "output_type": "stream",
     "text": [
      "  0%|          | 0/100000 [00:00<?, ?it/s]"
     ]
    },
    {
     "name": "stderr",
     "output_type": "stream",
     "text": [
      "100%|██████████| 100000/100000 [00:07<00:00, 14264.03it/s]\n"
     ]
    },
    {
     "data": {
      "text/plain": [
       "[(-0.3665567419379032, -7.308198236266493e-06),\n",
       " (6.058536366600793e-06, 0.36670965170246117)]"
      ]
     },
     "execution_count": 5,
     "metadata": {},
     "output_type": "execute_result"
    }
   ],
   "source": [
    "monte_carlo_roots_error_estimate(params=params_1, iterations=100000, func=f_1, n_roots=2, root_intervals=[(-100, 0), (0, 100)])"
   ]
  },
  {
   "cell_type": "code",
   "execution_count": 6,
   "metadata": {},
   "outputs": [
    {
     "name": "stderr",
     "output_type": "stream",
     "text": [
      "  0%|          | 0/100000 [00:00<?, ?it/s]"
     ]
    },
    {
     "name": "stderr",
     "output_type": "stream",
     "text": [
      "/tmp/ipykernel_24733/2879615603.py:7: RuntimeWarning: overflow encountered in exp\n",
      "  return np.exp(a[2] * x) + a[1] * x + a[0]\n",
      "100%|██████████| 100000/100000 [00:05<00:00, 16725.79it/s]\n"
     ]
    },
    {
     "data": {
      "text/plain": [
       "[(-0.8530355193445327, -0.7369808934573557)]"
      ]
     },
     "execution_count": 6,
     "metadata": {},
     "output_type": "execute_result"
    }
   ],
   "source": [
    "monte_carlo_roots_error_estimate(params=params_2, iterations=100000, func=f_2, n_roots=1)"
   ]
  },
  {
   "cell_type": "markdown",
   "metadata": {},
   "source": [
    "Метод аналитической оценки погрешности корней"
   ]
  },
  {
   "cell_type": "code",
   "execution_count": 7,
   "metadata": {},
   "outputs": [],
   "source": [
    "def derivatives_complex_step(func: Callable[[float, Sequence[float]], float],\n",
    "                             x_a: Sequence[float],\n",
    "                             h: float = 1e-15\n",
    "                             ) -> np.ndarray[float]:\n",
    "    def wrapper(x_a: Sequence[float]) -> float:\n",
    "        return func(x_a[0], x_a[1:])\n",
    "\n",
    "    x_a = np.array(x_a, dtype=complex)\n",
    "    derivatives = [0.0] * len(x_a)\n",
    "    for i in range(len(x_a)):\n",
    "        x_a[i] += 1j * h\n",
    "        derivatives[i] = wrapper(x_a).imag / h\n",
    "        x_a[i] -= 1j * h\n",
    "    return np.array(derivatives)\n",
    "\n",
    "def analytical_roots_error_estimate(params: Sequence[tuple[float, float]],\n",
    "                                    func: Callable[[float, Sequence[float]], float],\n",
    "                                    n_roots: int = 1,\n",
    "                                    root_intervals: Sequence[tuple[float, float]] = [(-100, 100)]\n",
    "                                    ) -> list[tuple[float, float]]:\n",
    "    roots = []\n",
    "    i = 0\n",
    "    while len(roots) != n_roots:\n",
    "        param_values = [np.random.uniform(*param_boundaries) for param_boundaries in params]\n",
    "        roots = find_all_roots_on_intervals(func, root_intervals, args=(param_values,))\n",
    "        i += 1\n",
    "        if i > 100:\n",
    "            raise Exception(f'Could not find {n_roots} root(s)')\n",
    "    # deltas = np.max(np.abs(np.transpose(params) - param_values), axis=0)\n",
    "    deltas = np.diff(params, axis=1).reshape(1, -1)[0] / 2\n",
    "    # param_values = np.mean(params, axis=1)\n",
    "    res = []\n",
    "    for x_0 in roots:\n",
    "        derivatives = derivatives_complex_step(func, np.append(x_0, param_values))\n",
    "        d_dx, d_da = derivatives[0], derivatives[1:]\n",
    "        max_delta_x = np.abs(d_da / d_dx) @ deltas\n",
    "        res.append((x_0 - max_delta_x, x_0 + max_delta_x))\n",
    "    return res"
   ]
  },
  {
   "cell_type": "markdown",
   "metadata": {},
   "source": [
    "Посмотрим, какие значения интервалов корней получились для обеих функций:"
   ]
  },
  {
   "cell_type": "code",
   "execution_count": 8,
   "metadata": {},
   "outputs": [
    {
     "data": {
      "text/plain": [
       "[(-0.512361842908789, -0.058099105583112154),\n",
       " (0.05110747647800215, 0.5014400906389102)]"
      ]
     },
     "execution_count": 8,
     "metadata": {},
     "output_type": "execute_result"
    }
   ],
   "source": [
    "analytical_roots_error_estimate(params_1, func=f_1, n_roots=2, root_intervals=[(-100, 0), (0, 100)])"
   ]
  },
  {
   "cell_type": "code",
   "execution_count": 9,
   "metadata": {},
   "outputs": [
    {
     "data": {
      "text/plain": [
       "[(-0.858830999700372, -0.7364960020131281)]"
      ]
     },
     "execution_count": 9,
     "metadata": {},
     "output_type": "execute_result"
    }
   ],
   "source": [
    "analytical_roots_error_estimate(params_2, func=f_2, n_roots=1)"
   ]
  },
  {
   "cell_type": "markdown",
   "metadata": {},
   "source": [
    "Метод бисекции:"
   ]
  },
  {
   "cell_type": "code",
   "execution_count": 10,
   "metadata": {},
   "outputs": [],
   "source": [
    "def bisection_roots_error_estimate(params: Sequence[tuple[float, float]],\n",
    "                                   func: Callable[[float, Sequence[float]], float],\n",
    "                                   root_intervals: Sequence[tuple[float, float]] = [(-100, 100)],\n",
    "                                   max_iter: int = 1000,\n",
    "                                   tol: float = 1e-6,\n",
    "                                   return_history: bool = False\n",
    "                                   ) -> list[tuple[float, float]] | tuple[list[tuple[float, float]], list[list[tuple[tuple[float, float]]]]]:\n",
    "    def bisection_method_with_uncertainty(f, params_boundaries, left, right) -> tuple[tuple[float, float], list[tuple[tuple[float, float]]]]:\n",
    "        def signs_at_boundaries(f, x, params_boundaries):\n",
    "            return [np.sign(f(x, a)) for a in product(*params_boundaries)]\n",
    "\n",
    "        def bisect_by(by: Callable[[Iterable[float]], float],\n",
    "                      left: float,\n",
    "                      right: float,\n",
    "                      max_iters: int\n",
    "                      ) -> float:\n",
    "            left_sign = by(signs_at_boundaries(f, left, params_boundaries))\n",
    "            right_sign = by(signs_at_boundaries(f, right, params_boundaries))\n",
    "            local_history = []\n",
    "            if left_sign * right_sign > 0:\n",
    "                print(f'Bisected by interval with same signs at ends (bisect_by_{by.__name__})')\n",
    "                return None, local_history\n",
    "            iters = 0\n",
    "            while right - left > tol and iters < max_iters:\n",
    "                local_history.append((left, right))\n",
    "                middle = (right + left) / 2\n",
    "                left_sign = by(signs_at_boundaries(f, left, params_boundaries))\n",
    "                middle_sign = by(signs_at_boundaries(f, middle, params_boundaries))\n",
    "                if left_sign * middle_sign < 0:\n",
    "                    right = middle\n",
    "                else:\n",
    "                    left = middle\n",
    "                iters += 1\n",
    "            return (right + left) / 2, local_history\n",
    "\n",
    "        iter_count = 0\n",
    "        global_history = []\n",
    "        while right - left > tol and iter_count < max_iter:\n",
    "            middle = (left + right) / 2\n",
    "            middle_signs = signs_at_boundaries(f, middle, params_boundaries)\n",
    "            left_sign = signs_at_boundaries(f, left, params_boundaries)[0]\n",
    "            if len(np.unique(middle_signs)) == 1:\n",
    "                global_history.append(((left, right),))\n",
    "                middle_sign = middle_signs[0]\n",
    "                if left_sign * middle_sign < 0:\n",
    "                    right = middle\n",
    "                else:\n",
    "                    left = middle\n",
    "                iter_count += 1\n",
    "            else:\n",
    "                if left_sign < 0:\n",
    "                    print(f'Uncertainty at middle point {middle}. Treating it as an increasing function.')\n",
    "                    left_boundary, left_history = bisect_by(max, left, middle, max_iter-iter_count)\n",
    "                    right_boundary, right_history = bisect_by(min, middle, right, max_iter-iter_count)\n",
    "                else:\n",
    "                    print(f'Uncertainty at middle point {middle}. Treating it as a decreasing function.')\n",
    "                    left_boundary, left_history = bisect_by(min, left, middle, max_iter-iter_count)\n",
    "                    right_boundary, right_history = bisect_by(max, middle, right, max_iter-iter_count)\n",
    "                if left_boundary is None or right_boundary is None:\n",
    "                    return (left_boundary, right_boundary), global_history + list(zip_longest(left_history, right_history, fillvalue=None))\n",
    "                fill = left_history[-1] if (len(left_history) < len(right_history)) else right_history[-1]\n",
    "                return (left_boundary, right_boundary), global_history + list(zip_longest(left_history, right_history, fillvalue=fill))\n",
    "        return (left, right), global_history\n",
    "\n",
    "    res = []\n",
    "    histories = [] \n",
    "    for interval in root_intervals:\n",
    "        interval, history = bisection_method_with_uncertainty(func, params, *interval)\n",
    "        res.append(interval)\n",
    "        histories.append(history)\n",
    "    if len(root_intervals) == 1:\n",
    "        return res[0] if not return_history else (res[0], histories[0])\n",
    "    else:\n",
    "        return res if not return_history else (res, histories)\n"
   ]
  },
  {
   "cell_type": "markdown",
   "metadata": {},
   "source": [
    "Кажется, что этим методом довольно сложно оценить плохие границы корней (как в случае с параболой, у которой может вообще не быть корней). В этом случае я решил возвращать None в качестве границы. Другая же граница при этом совпадает с тем, что было получено методом Монте-Карло."
   ]
  },
  {
   "cell_type": "code",
   "execution_count": 11,
   "metadata": {},
   "outputs": [
    {
     "name": "stdout",
     "output_type": "stream",
     "text": [
      "Uncertainty at middle point -0.1953125. Treating it as a decreasing function.\n",
      "Bisected by interval with same signs at ends (bisect_by_max)\n",
      "Uncertainty at middle point 0.1953125. Treating it as an increasing function.\n",
      "Bisected by interval with same signs at ends (bisect_by_max)\n"
     ]
    },
    {
     "data": {
      "text/plain": [
       "[(-0.370156392455101, None), (None, 0.370156392455101)]"
      ]
     },
     "execution_count": 11,
     "metadata": {},
     "output_type": "execute_result"
    }
   ],
   "source": [
    "bisection_roots_error_estimate(params_1, f_1, root_intervals=[(-100, 0), (0, 100)])"
   ]
  },
  {
   "cell_type": "markdown",
   "metadata": {},
   "source": [
    "С хорошей функцией $f_2$ всё еще лучше: границы полностью совпадают с полученными ранее:"
   ]
  },
  {
   "cell_type": "code",
   "execution_count": 12,
   "metadata": {},
   "outputs": [
    {
     "name": "stdout",
     "output_type": "stream",
     "text": [
      "Uncertainty at middle point -0.79375. Treating it as an increasing function.\n"
     ]
    },
    {
     "data": {
      "text/plain": [
       "(-0.855336880683899, -0.735782313346863)"
      ]
     },
     "execution_count": 12,
     "metadata": {},
     "output_type": "execute_result"
    }
   ],
   "source": [
    "bisection_roots_error_estimate(params_2, f_2, root_intervals=[(-1, -0.45)])"
   ]
  },
  {
   "cell_type": "markdown",
   "metadata": {},
   "source": [
    "Визуализируем, как менялись границы интервалов для корня функции $f_2$:"
   ]
  },
  {
   "cell_type": "code",
   "execution_count": 13,
   "metadata": {},
   "outputs": [
    {
     "name": "stdout",
     "output_type": "stream",
     "text": [
      "Uncertainty at middle point -0.79375. Treating it as an increasing function.\n"
     ]
    }
   ],
   "source": [
    "interval, interval_history = bisection_roots_error_estimate(params_2, f_2, root_intervals=[(-1, -0.45)], return_history=True)"
   ]
  },
  {
   "cell_type": "code",
   "execution_count": 14,
   "metadata": {},
   "outputs": [
    {
     "data": {
      "image/png": "[encoded data removed]",
      "text/plain": [
       "<Figure size 1500x500 with 1 Axes>"
      ]
     },
     "metadata": {},
     "output_type": "display_data"
    }
   ],
   "source": [
    "plt.figure(figsize=(15, 5))\n",
    "for iteration, intervals in enumerate(interval_history):\n",
    "    for i, interval in enumerate(intervals):\n",
    "        plt.hlines(iteration, interval[0], interval[1], colors='C'+str(i))\n",
    "plt.gca().invert_yaxis()\n",
    "plt.gca().set_yticks(range(len(interval_history)))\n",
    "plt.ylabel('Iteration')\n",
    "plt.show()"
   ]
  },
  {
   "cell_type": "markdown",
   "metadata": {},
   "source": [
    "Видно, как каждый интервал в отдельности сходится к границе погрешности корня, полученной ранее."
   ]
  }
 ],
 "metadata": {
  "kernelspec": {
   "display_name": "venv",
   "language": "python",
   "name": "python3"
  },
  "language_info": {
   "codemirror_mode": {
    "name": "ipython",
    "version": 3
   },
   "file_extension": ".py",
   "mimetype": "text/x-python",
   "name": "python",
   "nbconvert_exporter": "python",
   "pygments_lexer": "ipython3",
   "version": "3.10.12"
  }
 },
 "nbformat": 4,
 "nbformat_minor": 2
}
