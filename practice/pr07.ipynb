{
 "cells": [
  {
   "cell_type": "code",
   "execution_count": 1,
   "metadata": {},
   "outputs": [],
   "source": [
    "import scipy.stats as sps\n",
    "import numpy as np\n",
    "import math\n",
    "from tqdm import tqdm\n",
    "from collections.abc import Iterable, Callable\n",
    "from utils import generate_n_random_numbers\n",
    "from matplotlib import pyplot as plt "
   ]
  },
  {
   "cell_type": "markdown",
   "metadata": {},
   "source": [
    "## Task 1"
   ]
  },
  {
   "cell_type": "markdown",
   "metadata": {},
   "source": [
    "Зададим функцию, производные которой будем оценивать. У меня это будет\n",
    "$$f(x_1, x_2, \\dotsc, x_n) = \\sum_{i=1}^n x_i^2$$"
   ]
  },
  {
   "cell_type": "code",
   "execution_count": 13,
   "metadata": {},
   "outputs": [],
   "source": [
    "def example_func(x: Iterable[float | complex]) -> float:\n",
    "    return np.power(x, 2).sum()"
   ]
  },
  {
   "cell_type": "markdown",
   "metadata": {},
   "source": [
    "Функция нахождения производных функции методом конечных разностей"
   ]
  },
  {
   "cell_type": "code",
   "execution_count": 14,
   "metadata": {},
   "outputs": [],
   "source": [
    "def derivatives_finite_difference(f: Callable, x: np.ndarray[float], h: float) -> np.ndarray[float]:\n",
    "    f0 = f(x)\n",
    "    derivatives = [0.0] * len(x)\n",
    "    for i in range(len(x)):\n",
    "        x[i] += h\n",
    "        derivatives[i] = (f(x) - f0) / h\n",
    "        x[i] -= h\n",
    "    return np.array(derivatives)"
   ]
  },
  {
   "cell_type": "markdown",
   "metadata": {},
   "source": [
    "Функция нахождения производных функции методом комплексного приращения"
   ]
  },
  {
   "cell_type": "code",
   "execution_count": 15,
   "metadata": {},
   "outputs": [],
   "source": [
    "def derivatives_complex_step(f: Callable, x: np.ndarray[float], h: float) -> np.ndarray[float]:\n",
    "    x = np.array(x, dtype=complex)\n",
    "    derivatives = [0.0] * len(x)\n",
    "    for i in range(len(x)):\n",
    "        x[i] += 1j * h\n",
    "        derivatives[i] = f(x).imag / h\n",
    "        x[i] -= 1j * h\n",
    "    return np.array(derivatives)"
   ]
  },
  {
   "cell_type": "markdown",
   "metadata": {},
   "source": [
    "Посмотрим при различных $h$ что мы получим каждым методом"
   ]
  },
  {
   "cell_type": "code",
   "execution_count": 16,
   "metadata": {},
   "outputs": [
    {
     "name": "stdout",
     "output_type": "stream",
     "text": [
      "X = [2. 2. 2. 2. 2. 2. 2. 2. 2. 2.]\n",
      "FINITE DIFFERENCES\n",
      "COMPLEX-STEP\n"
     ]
    }
   ],
   "source": [
    "METHODS = {\"finite differences\": derivatives_finite_difference, \"complex-step\": derivatives_complex_step}\n",
    "HS = np.power(10.0, range(-300, 1))\n",
    "X = np.ones(10) * 2\n",
    "results = {}\n",
    "\n",
    "print(f\"X = {X}\")\n",
    "for method_name, method_function in METHODS.items():\n",
    "    print(method_name.upper())\n",
    "    results_for_method = []\n",
    "    for h in HS:\n",
    "        derivatives = method_function(example_func, X, h)\n",
    "        results_for_method.append(derivatives[0])\n",
    "\n",
    "    results[method_name] = results_for_method"
   ]
  },
  {
   "cell_type": "code",
   "execution_count": 17,
   "metadata": {},
   "outputs": [
    {
     "data": {
      "image/png": "[encoded data removed]",
      "text/plain": [
       "<Figure size 640x480 with 1 Axes>"
      ]
     },
     "metadata": {},
     "output_type": "display_data"
    }
   ],
   "source": [
    "NUM_METHODS = len(METHODS.keys())\n",
    "for method_id, method_name in enumerate(METHODS.keys()):\n",
    "    plt.plot(HS, results[method_name], label=method_name.capitalize())\n",
    "    plt.gca().set_xscale('log')\n",
    "plt.legend()\n",
    "plt.show()"
   ]
  },
  {
   "cell_type": "markdown",
   "metadata": {},
   "source": [
    "Найдём наследственную ошибку нашей функции методом линеаризации, применяя в нём наши  методы оценки производных"
   ]
  },
  {
   "cell_type": "code",
   "execution_count": 18,
   "metadata": {},
   "outputs": [],
   "source": [
    "def linearization_error_estimate(x: Iterable,\n",
    "                                 deltas: Iterable,\n",
    "                                 func: Callable,\n",
    "                                 derivatives_estimator: Callable,\n",
    "                                 h: float,\n",
    "                                 *args) -> float | np.ndarray[float]:\n",
    "    derivatives = derivatives_estimator(func, x, h, *args)\n",
    "    A = np.matrix(np.abs(derivatives))\n",
    "    if A.shape[0] == 1:\n",
    "        return np.sum(np.multiply(derivatives, deltas))\n",
    "    else:\n",
    "        return np.array(A.T @ deltas)[0]"
   ]
  },
  {
   "cell_type": "code",
   "execution_count": 19,
   "metadata": {},
   "outputs": [
    {
     "name": "stdout",
     "output_type": "stream",
     "text": [
      "Linearization error estimate using the finite differences method is 0.08000000661922967\n",
      "Linearization error estimate using the complex-step method is 0.07999999999999996\n"
     ]
    }
   ],
   "source": [
    "ERROR_PERCENT = 0.1\n",
    "deltas = np.multiply(X, ERROR_PERCENT / 100)\n",
    "for method_name, method_function in METHODS.items():\n",
    "    error = linearization_error_estimate(X, deltas, example_func, method_function, h=10**-10)\n",
    "    print(f\"Linearization error estimate using the {method_name} method is {error}\")"
   ]
  },
  {
   "cell_type": "markdown",
   "metadata": {},
   "source": [
    "## Task 2\n",
    "\n",
    "Реализовать классическую интервальную и аффинную арифметику для требуемых в функции $f$ операций. \n",
    "\n",
    "Для классической арифметики перегрузим все основные арифметические операции, включая бинарные ($+$, $-$, $\\cdot$, $\\div$, степень), бинарные с присвоением, унарные и все эти операции в комбинации с обыкновенными числами с обеих сторон (а так же представление при печати). "
   ]
  },
  {
   "cell_type": "code",
   "execution_count": 26,
   "metadata": {},
   "outputs": [],
   "source": [
    "class ClassicalInterval:\n",
    "    def __init__(self, a: int | float, b: int | float = None):\n",
    "        self.a = a\n",
    "        if b is not None:\n",
    "            if b < a:\n",
    "                raise ValueError(\"Left boundary should be less than right boundary\")\n",
    "            self.b = b\n",
    "        else:\n",
    "            self.b = a\n",
    "    \n",
    "    def __repr__(self):\n",
    "        return f\"[{self.a}; {self.b}]\"\n",
    "\n",
    "    def __pos__(self):\n",
    "        return self\n",
    "\n",
    "    def __add__(self, o):\n",
    "        if not isinstance(o, ClassicalInterval):\n",
    "            o = ClassicalInterval(o)\n",
    "        return ClassicalInterval(self.a + o.a, self.b + o.b)\n",
    "\n",
    "    def __radd__(self, o):\n",
    "        return self + o\n",
    "\n",
    "    def __iadd__(self, o):\n",
    "        return self + o\n",
    "    \n",
    "    def __neg__(self):\n",
    "        return ClassicalInterval(-self.b, -self.a)\n",
    "\n",
    "    def __sub__(self, o):\n",
    "        return self + (-o)\n",
    "\n",
    "    def __rsub__(self, o):\n",
    "        return (-self) - (-o)\n",
    "    \n",
    "    def __isub__(self, o):\n",
    "        return self - o\n",
    "\n",
    "    def __mul__(self, o):\n",
    "        if not isinstance(o, ClassicalInterval):\n",
    "            o = ClassicalInterval(o)\n",
    "        r = [self.a * o.a, self.a * o.b, self.b * o.a, self.b * o.b]\n",
    "        return ClassicalInterval(min(r), max(r))\n",
    "    \n",
    "    def __rmul__(self, o):\n",
    "        return self * o\n",
    "    \n",
    "    def __imul__(self, o):\n",
    "        return self * o\n",
    "\n",
    "    def _inverse(interval):\n",
    "        if interval.a <= 0 <= interval.b:\n",
    "            raise ZeroDivisionError(\"Divider cannot contain zero.\")\n",
    "        r = [1.0 / interval.a, 1.0 / interval.b]\n",
    "        return ClassicalInterval(min(r), max(r))\n",
    "\n",
    "    def __truediv__(self, o):\n",
    "        if not isinstance(o, ClassicalInterval):\n",
    "            if o == 0:\n",
    "                raise ZeroDivisionError(\"Divider cannot be zero.\")\n",
    "            o = ClassicalInterval(o)\n",
    "        return self * ClassicalInterval._inverse(o)\n",
    "    \n",
    "    def __rtruediv__(self, o):\n",
    "        return o * ClassicalInterval._inverse(self)\n",
    "    \n",
    "    def __itruediv__(self, o):\n",
    "        return self / o\n",
    "    \n",
    "    def __pow__(self, o):\n",
    "        if not isinstance(o, ClassicalInterval):\n",
    "            o = ClassicalInterval(o)\n",
    "        r = [self.a ** o.a, self.a ** o.b, self.b ** o.a, self.b ** o.b]\n",
    "        return ClassicalInterval(min(r), max(r))\n",
    "    \n",
    "    def __rpow__(self, o):\n",
    "        return ClassicalInterval(o) ** self\n",
    "    \n",
    "    def abs(self):\n",
    "        if self.a < 0 and self.b > 0:\n",
    "            return ClassicalInterval(0, max(-self.a, self.b))\n",
    "        r = [abs(self.a), abs(self.b)]\n",
    "        return ClassicalInterval(min(r), max(r))"
   ]
  },
  {
   "cell_type": "markdown",
   "metadata": {},
   "source": [
    "Попробуем найти ошибку, полученную классической интервальной арифметикой"
   ]
  },
  {
   "cell_type": "code",
   "execution_count": 27,
   "metadata": {},
   "outputs": [
    {
     "data": {
      "text/plain": [
       "[-0.07995999999999981; 0.08003999999998967]"
      ]
     },
     "execution_count": 27,
     "metadata": {},
     "output_type": "execute_result"
    }
   ],
   "source": [
    "x_left, x_right = X * (1 - ERROR_PERCENT / 100), X * (1 + ERROR_PERCENT / 100)\n",
    "classical_error_intervals = [ClassicalInterval(left, right) for left, right in zip(x_left, x_right)]\n",
    "example_func(classical_error_intervals) - example_func(X)"
   ]
  },
  {
   "cell_type": "markdown",
   "metadata": {},
   "source": [
    "В этом примере она оказалась весьма похожей на то, что мы получили линеаризацией, однако это далеко не всегда будет так. Например, в этой функции разница уже заметнее:\n",
    "$$f(x_1, x_2, \\dotsc, x_n) = \\sum_{i=1}^n \\frac{\\frac{1}{x_i^5} + \\frac{3^{x_i}}{10} + 1}{x-1}$$"
   ]
  },
  {
   "cell_type": "code",
   "execution_count": 76,
   "metadata": {},
   "outputs": [],
   "source": [
    "def example_func_2(x: Iterable[float | complex]) -> float:\n",
    "    return np.sum((1.0 / np.power(x, 5) + np.power(3, x) / 10 + 1) / x - 1)"
   ]
  },
  {
   "cell_type": "code",
   "execution_count": 79,
   "metadata": {},
   "outputs": [
    {
     "name": "stdout",
     "output_type": "stream",
     "text": [
      "Classical intervals arithmetic got [-0.02029152619045016; 0.020358588917470666]\n",
      "Linearization with complex step derivatives estimation got -0.000549989401987016\n",
      "Difference ~37 times!\n"
     ]
    }
   ],
   "source": [
    "error_intervals = example_func_2(classical_error_intervals) - example_func_2(X)\n",
    "print(f\"Classical intervals arithmetic got {error_intervals}\")\n",
    "error_linearization = linearization_error_estimate(X, deltas, example_func_2, derivatives_complex_step, 1e-100)\n",
    "print(f\"Linearization with complex step derivatives estimation got {error_linearization}\")\n",
    "print(f\"Difference ~{math.ceil(abs(error_intervals.a / error_linearization))} times!\")"
   ]
  }
 ],
 "metadata": {
  "kernelspec": {
   "display_name": "venv",
   "language": "python",
   "name": "python3"
  },
  "language_info": {
   "codemirror_mode": {
    "name": "ipython",
    "version": 3
   },
   "file_extension": ".py",
   "mimetype": "text/x-python",
   "name": "python",
   "nbconvert_exporter": "python",
   "pygments_lexer": "ipython3",
   "version": "3.10.12"
  }
 },
 "nbformat": 4,
 "nbformat_minor": 2
}
