{
 "cells": [
  {
   "cell_type": "code",
   "execution_count": 1,
   "metadata": {},
   "outputs": [],
   "source": [
    "import numpy as np\n",
    "import numdifftools as nd\n",
    "from collections.abc import Iterable, Callable\n",
    "from matplotlib import pyplot as plt \n",
    "import time"
   ]
  },
  {
   "cell_type": "markdown",
   "metadata": {},
   "source": [
    "## Task 1"
   ]
  },
  {
   "cell_type": "markdown",
   "metadata": {},
   "source": [
    "Зададим функцию, производные которой будем оценивать:\n",
    "$$f(x_1, x_2, \\dotsc, x_n) = \\sum_{i=1}^n \\frac{\\frac{1}{x_i^5} + \\frac{3^{x_i}}{10} - \\ln(|x_i|)}{-x_i}$$"
   ]
  },
  {
   "cell_type": "code",
   "execution_count": 2,
   "metadata": {},
   "outputs": [],
   "source": [
    "def example_func(x: Iterable) -> float:\n",
    "    return np.sum((1 / np.power(x, 5) + np.power(3, x) / 10 - np.log(x)) / np.negative(x))"
   ]
  },
  {
   "cell_type": "markdown",
   "metadata": {},
   "source": [
    "Функция нахождения производных функции методом конечных разностей"
   ]
  },
  {
   "cell_type": "code",
   "execution_count": 3,
   "metadata": {},
   "outputs": [],
   "source": [
    "def derivatives_finite_difference(f: Callable, x: np.ndarray[float], h: float) -> np.ndarray[float]:\n",
    "    f0 = f(x)\n",
    "    derivatives = [0.0] * len(x)\n",
    "    for i in range(len(x)):\n",
    "        x[i] += h\n",
    "        derivatives[i] = (f(x) - f0) / h\n",
    "        x[i] -= h\n",
    "    return np.array(derivatives)"
   ]
  },
  {
   "cell_type": "markdown",
   "metadata": {},
   "source": [
    "Функция нахождения производных функции методом комплексного приращения"
   ]
  },
  {
   "cell_type": "code",
   "execution_count": 4,
   "metadata": {},
   "outputs": [],
   "source": [
    "def derivatives_complex_step(f: Callable, x: np.ndarray[float], h: float) -> np.ndarray[float]:\n",
    "    x = np.array(x, dtype=complex)\n",
    "    derivatives = [0.0] * len(x)\n",
    "    for i in range(len(x)):\n",
    "        x[i] += 1j * h\n",
    "        derivatives[i] = f(x).imag / h\n",
    "        x[i] -= 1j * h\n",
    "    return np.array(derivatives)"
   ]
  },
  {
   "cell_type": "markdown",
   "metadata": {},
   "source": [
    "Возьмём готовую реализацию автоматического дифференцирования из `numdifftools`"
   ]
  },
  {
   "cell_type": "code",
   "execution_count": 5,
   "metadata": {},
   "outputs": [],
   "source": [
    "def derivatives_automatic(f: Callable, x: np.ndarray[float], h: float = 0) -> np.ndarray[float]:\n",
    "    return np.array(nd.Gradient(f)(x))"
   ]
  },
  {
   "cell_type": "markdown",
   "metadata": {},
   "source": [
    "Посмотрим при различных $h$ что мы получим каждым методом"
   ]
  },
  {
   "cell_type": "code",
   "execution_count": 6,
   "metadata": {},
   "outputs": [
    {
     "name": "stdout",
     "output_type": "stream",
     "text": [
      "FINITE DIFFERENCES: 0.942s\n",
      "COMPLEX-STEP:       1.906s\n",
      "AUTOMATIC:          32.289s\n"
     ]
    }
   ],
   "source": [
    "METHODS = {'finite differences': derivatives_finite_difference,\n",
    "           'complex-step': derivatives_complex_step,\n",
    "           'automatic': derivatives_automatic}\n",
    "max_len = len(max(METHODS.keys(), key=len))\n",
    "HS = np.power(10.0, range(-300, 1))\n",
    "X = np.ones(200) * 2\n",
    "results = {}\n",
    "for method_name, method_function in METHODS.items():\n",
    "    start_time = time.time()\n",
    "    print(f\"{method_name.upper()}:\", ' ' * (max_len - len(method_name)), end='')\n",
    "    results_for_method = []\n",
    "    for h in HS:\n",
    "        derivatives = method_function(example_func, X, h)\n",
    "        results_for_method.append(derivatives[0])\n",
    "\n",
    "    results[method_name] = results_for_method\n",
    "    print(f\"{(time.time() - start_time):.3f}s\")"
   ]
  },
  {
   "cell_type": "markdown",
   "metadata": {},
   "source": [
    "Как видно, автоматическое дифференцирование оказалось значительно дольше остальных методов."
   ]
  },
  {
   "cell_type": "code",
   "execution_count": 7,
   "metadata": {},
   "outputs": [
    {
     "data": {
      "image/png": "[encoded data removed]",
      "text/plain": [
       "<Figure size 640x480 with 1 Axes>"
      ]
     },
     "metadata": {},
     "output_type": "display_data"
    }
   ],
   "source": [
    "NUM_METHODS = len(METHODS.keys())\n",
    "for method_id, method_name in enumerate(METHODS.keys()):\n",
    "    plt.plot(HS, results[method_name], label=method_name.capitalize())\n",
    "    plt.gca().set_xscale('log')\n",
    "plt.legend()\n",
    "plt.show()"
   ]
  },
  {
   "cell_type": "markdown",
   "metadata": {},
   "source": [
    "Найдём наследственную ошибку нашей функции методом линеаризации, применяя в нём наши  методы оценки производных"
   ]
  },
  {
   "cell_type": "code",
   "execution_count": 8,
   "metadata": {},
   "outputs": [],
   "source": [
    "def linearization_error_estimate(x: Iterable,\n",
    "                                 deltas: Iterable,\n",
    "                                 func: Callable,\n",
    "                                 derivatives_estimator: Callable,\n",
    "                                 h: float,\n",
    "                                 *args) -> float | np.ndarray[float]:\n",
    "    derivatives = derivatives_estimator(func, x, h, *args)\n",
    "    A = np.matrix(np.abs(derivatives))\n",
    "    if A.shape[0] == 1:\n",
    "        return np.sum(np.multiply(derivatives, deltas))\n",
    "    else:\n",
    "        return np.array(A.T @ deltas)[0]"
   ]
  },
  {
   "cell_type": "code",
   "execution_count": 9,
   "metadata": {},
   "outputs": [
    {
     "name": "stdout",
     "output_type": "stream",
     "text": [
      "Linearization error estimate using the finite differences method is -0.058321347751189016\n",
      "Linearization error estimate using the complex-step method is       -0.058314930016254214\n",
      "Linearization error estimate using the automatic method is          -0.05831493001606286\n"
     ]
    }
   ],
   "source": [
    "ERROR_PERCENT = 0.1\n",
    "deltas = np.multiply(X, ERROR_PERCENT / 100)\n",
    "for method_name, method_function in METHODS.items():\n",
    "    error = linearization_error_estimate(X, deltas, example_func, method_function, h=10**-10)\n",
    "    print(f\"Linearization error estimate using the {method_name} method is \", ' ' * (max_len - len(method_name)) ,error, sep='')"
   ]
  }
 ],
 "metadata": {
  "kernelspec": {
   "display_name": "venv",
   "language": "python",
   "name": "python3"
  },
  "language_info": {
   "codemirror_mode": {
    "name": "ipython",
    "version": 3
   },
   "file_extension": ".py",
   "mimetype": "text/x-python",
   "name": "python",
   "nbconvert_exporter": "python",
   "pygments_lexer": "ipython3",
   "version": "3.10.12"
  }
 },
 "nbformat": 4,
 "nbformat_minor": 2
}
