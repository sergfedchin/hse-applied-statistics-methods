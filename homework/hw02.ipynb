{
 "cells": [
  {
   "cell_type": "code",
   "execution_count": 1,
   "metadata": {},
   "outputs": [],
   "source": [
    "import matplotlib.pyplot as plt\n",
    "import scipy.stats as sps\n",
    "from scipy.special import erfinv\n",
    "import numpy as np\n",
    "import math\n",
    "import random\n",
    "from tqdm import tqdm"
   ]
  },
  {
   "cell_type": "markdown",
   "metadata": {},
   "source": [
    "Функция генерации выборки с первой практики"
   ]
  },
  {
   "cell_type": "code",
   "execution_count": 2,
   "metadata": {},
   "outputs": [],
   "source": [
    "def generate_n_random_numbers(N: int, distribution: str):\n",
    "    \"\"\"\n",
    "    N - size of sample\n",
    "    distribution - [\"Uniform[0, 1]\", \"Uniform[-1, 1]\", \"2xUniform[-1, 1]\", \"3xUniform[-1, 1]\", \"Cauchy(0, 1)\", Norm(0, 1)]\n",
    "    \"\"\"\n",
    "    match distribution:\n",
    "        case \"Uniform[0, 1]\":\n",
    "            return [random.uniform(0, 1) for _ in range(N)]\n",
    "        case \"Uniform[-1, 1]\":\n",
    "            return [random.uniform(0, 1) * 2 - 1 for _ in range(N)]\n",
    "        case \"2xUniform[-1, 1]\":\n",
    "            t = generate_n_random_numbers(2 * N, \"Uniform[-1, 1]\")\n",
    "            return [t[2 * i] + t[2 * i + 1] for i in range(N)]\n",
    "        case \"3xUniform[-1, 1]\":\n",
    "            t = generate_n_random_numbers(3 * N, \"Uniform[-1, 1]\")\n",
    "            return [t[3 * i] + t[3 * i + 1] + t[3 * i + 2] for i in range(N)]\n",
    "        case \"Cauchy(0, 1)\":\n",
    "            t = generate_n_random_numbers(N, \"Uniform[0, 1]\")\n",
    "            return list(map(lambda x: math.tan(math.pi * (x - 0.5)), t))\n",
    "        case \"Norm(0, 1)\":\n",
    "            return [random.normalvariate(0, 1) for _ in range(N)]\n",
    "        case _:\n",
    "            return []"
   ]
  },
  {
   "cell_type": "code",
   "execution_count": 3,
   "metadata": {},
   "outputs": [],
   "source": [
    "P = 0.95\n",
    "PERCENTILE = ((1 - P) / 2) * 100\n",
    "ANALYTICAL_EXPECTATION = 0\n",
    "ITERATIONS = 10 ** 4\n",
    "BOOTSTRAP_SIZE = 1000\n",
    "NS = [10, 100, 1000]"
   ]
  },
  {
   "cell_type": "markdown",
   "metadata": {},
   "source": [
    "Функция традиционного подсчёта доверительного интервала (как на второй практике) для сравнения "
   ]
  },
  {
   "cell_type": "code",
   "execution_count": 4,
   "metadata": {},
   "outputs": [],
   "source": [
    "def traditional_confidence_interval(sample: list,\n",
    "                                    quantil: float,\n",
    "                                    sigma_squared: float) -> tuple:\n",
    "    term = quantil * math.sqrt(sigma_squared) / math.sqrt(len(sample))\n",
    "    c_star = calculate_c_star(sample)\n",
    "    return (c_star - term, c_star + term)\n",
    "\n",
    "\n",
    "def calculate_c_star(x: list):\n",
    "    return sum(x) / len(x)"
   ]
  },
  {
   "cell_type": "markdown",
   "metadata": {},
   "source": [
    "Альтернативный способ подсчёта доверительного интервала для математического ожидания методом bootstrap. Суть: сделаем 1000 выборок размера $n$, составляя их рандомно из элементов исходной выборки."
   ]
  },
  {
   "cell_type": "code",
   "execution_count": 5,
   "metadata": {},
   "outputs": [],
   "source": [
    "def bootstrap_confidence_interval(sample: list) -> tuple:\n",
    "    bootstrap_samples = bootstrap(sample)\n",
    "    bootstrap_means = [np.mean(sample) for sample in bootstrap_samples]\n",
    "    return (np.percentile(bootstrap_means, PERCENTILE),\n",
    "            np.percentile(bootstrap_means, 100 - PERCENTILE))\n",
    "\n",
    "\n",
    "def bootstrap(data: list):\n",
    "    return [np.random.choice(data, size=len(data), replace=True)\n",
    "            for _ in range(BOOTSTRAP_SIZE)]"
   ]
  },
  {
   "cell_type": "markdown",
   "metadata": {},
   "source": [
    "И подсчёт доверительного интервала методом jackknife. Суть: сделаем из выборки длины $n$ множество из $n$ выборок, каждая размером $n-1$, выкидывая по одному элементу из исходной выборки."
   ]
  },
  {
   "cell_type": "code",
   "execution_count": 6,
   "metadata": {},
   "outputs": [],
   "source": [
    "z_score = np.sqrt(2) * erfinv(P)\n",
    "\n",
    "def jackknife_confidence_interval(sample: list) -> tuple:\n",
    "    sample_mean = np.mean(sample)\n",
    "    jack_means = np.apply_along_axis(np.mean, 1, jackknife(sample))\n",
    "    mean_jack_means = np.mean(jack_means)\n",
    "    # jackknife bias\n",
    "    n = len(sample)\n",
    "    bias = (n - 1) * (mean_jack_means - sample_mean)\n",
    "    # jackknife standard error\n",
    "    terms = np.apply_along_axis(lambda x: pow(x - mean_jack_means, 2), 0, jack_means)\n",
    "    std_err = np.sqrt((n - 1) * np.mean(terms))\n",
    "    # bias-corrected \"jackknifed estimate\"\n",
    "    estimate = sample_mean - bias\n",
    "    return (estimate - std_err * z_score,\n",
    "            estimate + std_err * z_score)\n",
    "\n",
    "\n",
    "def jackknife(data: list):\n",
    "    return [np.delete(data, i) for i in range(len(data))]"
   ]
  },
  {
   "cell_type": "markdown",
   "metadata": {},
   "source": [
    "Сгенерируем по $10^4$ выборок разных размеров для каждого распределения и проверим, какая доля из них будет попадать в доверительный интервал, подсчитанный каждым из трёх методов"
   ]
  },
  {
   "cell_type": "code",
   "execution_count": 7,
   "metadata": {},
   "outputs": [],
   "source": [
    "distros = [\"Uniform[-1, 1]\", \"Norm(0, 1)\", \"2xUniform[-1, 1]\"]\n",
    "sigma_squared = {\"Uniform[-1, 1]\": 1 / 3,\n",
    "                    \"Norm(0, 1)\": 1,\n",
    "                    \"2xUniform[-1, 1]\": 2 / 3}\n",
    "quantil = sps.norm(loc=0, scale=1).ppf((1 + P) / 2)"
   ]
  },
  {
   "cell_type": "code",
   "execution_count": 8,
   "metadata": {},
   "outputs": [
    {
     "name": "stdout",
     "output_type": "stream",
     "text": [
      "Start generating samples...\n"
     ]
    },
    {
     "name": "stderr",
     "output_type": "stream",
     "text": [
      "100%|██████████| 3/3 [00:18<00:00,  6.03s/it]"
     ]
    },
    {
     "name": "stdout",
     "output_type": "stream",
     "text": [
      "Samples generated.\n"
     ]
    },
    {
     "name": "stderr",
     "output_type": "stream",
     "text": [
      "\n"
     ]
    }
   ],
   "source": [
    "print(\"Start generating samples...\")\n",
    "samples = {d: [[generate_n_random_numbers(n, d) for _ in range(ITERATIONS)]\n",
    "                for n in NS] for d in tqdm(distros)}\n",
    "print(\"Samples generated.\")"
   ]
  },
  {
   "cell_type": "code",
   "execution_count": 9,
   "metadata": {},
   "outputs": [
    {
     "name": "stdout",
     "output_type": "stream",
     "text": [
      "Distribution Uniform[-1, 1], samples size = 10\n"
     ]
    },
    {
     "name": "stderr",
     "output_type": "stream",
     "text": [
      "100%|██████████| 10000/10000 [03:20<00:00, 49.76it/s]\n"
     ]
    },
    {
     "name": "stdout",
     "output_type": "stream",
     "text": [
      "Distribution Uniform[-1, 1], samples size = 100\n"
     ]
    },
    {
     "name": "stderr",
     "output_type": "stream",
     "text": [
      "100%|██████████| 10000/10000 [04:12<00:00, 39.56it/s]\n"
     ]
    },
    {
     "name": "stdout",
     "output_type": "stream",
     "text": [
      "Distribution Uniform[-1, 1], samples size = 1000\n"
     ]
    },
    {
     "name": "stderr",
     "output_type": "stream",
     "text": [
      "100%|██████████| 10000/10000 [15:57<00:00, 10.45it/s]\n"
     ]
    },
    {
     "name": "stdout",
     "output_type": "stream",
     "text": [
      "Results for distribution Uniform[-1, 1]\n",
      "[0.9481, 0.9494, 0.9476] (traditional)\n",
      "[0.9075, 0.9437, 0.9446] (bootstrap)\n",
      "[0.9131, 0.9475, 0.9474] (jackknife)\n",
      "----------------------------------------\n",
      "Distribution Norm(0, 1), samples size = 10\n"
     ]
    },
    {
     "name": "stderr",
     "output_type": "stream",
     "text": [
      "100%|██████████| 10000/10000 [03:19<00:00, 50.24it/s]\n"
     ]
    },
    {
     "name": "stdout",
     "output_type": "stream",
     "text": [
      "Distribution Norm(0, 1), samples size = 100\n"
     ]
    },
    {
     "name": "stderr",
     "output_type": "stream",
     "text": [
      "100%|██████████| 10000/10000 [04:08<00:00, 40.31it/s]\n"
     ]
    },
    {
     "name": "stdout",
     "output_type": "stream",
     "text": [
      "Distribution Norm(0, 1), samples size = 1000\n"
     ]
    },
    {
     "name": "stderr",
     "output_type": "stream",
     "text": [
      "100%|██████████| 10000/10000 [15:57<00:00, 10.45it/s]\n"
     ]
    },
    {
     "name": "stdout",
     "output_type": "stream",
     "text": [
      "Results for distribution Norm(0, 1)\n",
      "[0.9487, 0.9493, 0.9482] (traditional)\n",
      "[0.9032, 0.9439, 0.9444] (bootstrap)\n",
      "[0.9209, 0.9468, 0.9479] (jackknife)\n",
      "----------------------------------------\n",
      "Distribution 2xUniform[-1, 1], samples size = 10\n"
     ]
    },
    {
     "name": "stderr",
     "output_type": "stream",
     "text": [
      "100%|██████████| 10000/10000 [03:19<00:00, 50.07it/s]\n"
     ]
    },
    {
     "name": "stdout",
     "output_type": "stream",
     "text": [
      "Distribution 2xUniform[-1, 1], samples size = 100\n"
     ]
    },
    {
     "name": "stderr",
     "output_type": "stream",
     "text": [
      "100%|██████████| 10000/10000 [04:03<00:00, 41.11it/s]\n"
     ]
    },
    {
     "name": "stdout",
     "output_type": "stream",
     "text": [
      "Distribution 2xUniform[-1, 1], samples size = 1000\n"
     ]
    },
    {
     "name": "stderr",
     "output_type": "stream",
     "text": [
      "100%|██████████| 10000/10000 [15:51<00:00, 10.51it/s]\n"
     ]
    },
    {
     "name": "stdout",
     "output_type": "stream",
     "text": [
      "Results for distribution 2xUniform[-1, 1]\n",
      "[0.9471, 0.9526, 0.9497] (traditional)\n",
      "[0.8971, 0.9466, 0.9479] (bootstrap)\n",
      "[0.9149, 0.9481, 0.9492] (jackknife)\n",
      "----------------------------------------\n"
     ]
    },
    {
     "data": {
      "image/png": "[encoded data removed]",
      "text/plain": [
       "<Figure size 640x480 with 9 Axes>"
      ]
     },
     "metadata": {},
     "output_type": "display_data"
    }
   ],
   "source": [
    "_, axis = plt.subplots(3, 3)\n",
    "for i, d in enumerate(distros):\n",
    "    results = []\n",
    "    results_bs = []\n",
    "    results_jk = []\n",
    "    for n_id, n in enumerate(NS):\n",
    "        hits_counter = 0\n",
    "        hits_counter_bs = 0\n",
    "        hits_counter_jk = 0\n",
    "        print(f\"Distribution {d}, samples size = {n}\")\n",
    "        for sample in tqdm(samples[d][n_id]):\n",
    "            d_left, d_right = traditional_confidence_interval(sample, quantil, sigma_squared[d])\n",
    "            hits_counter += d_left <= ANALYTICAL_EXPECTATION <= d_right\n",
    "\n",
    "            d_left_bs, d_right_bs = bootstrap_confidence_interval(sample)\n",
    "            hits_counter_bs += d_left_bs <= ANALYTICAL_EXPECTATION <= d_right_bs\n",
    "\n",
    "            d_left_jk, d_right_jk = jackknife_confidence_interval(sample)\n",
    "            hits_counter_jk += d_left_jk <= ANALYTICAL_EXPECTATION <= d_right_jk\n",
    "\n",
    "        results.append(hits_counter / ITERATIONS)\n",
    "        results_bs.append(hits_counter_bs / ITERATIONS)\n",
    "        results_jk.append(hits_counter_jk / ITERATIONS)\n",
    "\n",
    "    print(f\"Results for distribution {d}\\n\"\n",
    "            f\"{results} (traditional)\\n\"\n",
    "            f\"{results_bs} (bootstrap)\\n\"\n",
    "            f\"{results_jk} (jackknife)\\n\", '-' * 40, sep='')\n",
    "    axis[i][0].plot(NS, results)\n",
    "    axis[i][1].plot(NS, results_bs)\n",
    "    axis[i][2].plot(NS, results_jk)\n",
    "    axis[i][0].set_xscale('log')\n",
    "    axis[i][1].set_xscale('log')\n",
    "    axis[i][2].set_xscale('log')\n",
    "plt.show()"
   ]
  },
  {
   "cell_type": "markdown",
   "metadata": {},
   "source": [
    "На графиках изображена доля испытаний, в которых доверительный интервал накрывает реальное матожидание 0. По строкам идут распределения (сверху вниз: $\\text{Uniform}[-1, 1]$, $\\text{Norm}(0, 1)$ и $2\\cdot \\text{Uniform}[-1, 1]$), по столбцам идут методы (слева направо: классический, бутстрэп и джекнайф). На каждом графике отображена доля по оси ординат, и размер выборки $n$ по оси абсцисс. Для каждой точки проведено $10^4$ испытаний."
   ]
  }
 ],
 "metadata": {
  "kernelspec": {
   "display_name": "venv",
   "language": "python",
   "name": "python3"
  },
  "language_info": {
   "codemirror_mode": {
    "name": "ipython",
    "version": 3
   },
   "file_extension": ".py",
   "mimetype": "text/x-python",
   "name": "python",
   "nbconvert_exporter": "python",
   "pygments_lexer": "ipython3",
   "version": "3.10.12"
  }
 },
 "nbformat": 4,
 "nbformat_minor": 2
}
