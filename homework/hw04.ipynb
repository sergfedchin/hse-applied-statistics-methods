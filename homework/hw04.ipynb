{
 "cells": [
  {
   "cell_type": "markdown",
   "metadata": {},
   "source": [
    "# 27.09.2024"
   ]
  },
  {
   "cell_type": "code",
   "execution_count": 1,
   "metadata": {},
   "outputs": [],
   "source": [
    "import matplotlib.pyplot as plt\n",
    "import scipy.stats as sps\n",
    "import scipy.special as special\n",
    "import scipy.integrate as integrate\n",
    "from statsmodels.stats.proportion import proportion_confint\n",
    "import numpy as np\n",
    "import random\n",
    "import math\n",
    "import time\n",
    "from tqdm import tqdm"
   ]
  },
  {
   "cell_type": "markdown",
   "metadata": {},
   "source": [
    "Функция генерации выборки с первой практики"
   ]
  },
  {
   "cell_type": "code",
   "execution_count": 2,
   "metadata": {},
   "outputs": [],
   "source": [
    "def generate_n_random_numbers(N: int, distribution: str):\n",
    "    \"\"\"\n",
    "    N - size of sample\n",
    "    distribution - [\"Uniform[0, 1]\", \"Uniform[-1, 1]\", \"2xUniform[-1, 1]\", \"3xUniform[-1, 1]\", \"Cauchy(0, 1)\", Norm(0, 1)]\n",
    "    \"\"\"\n",
    "    match distribution:\n",
    "        case \"Uniform[0, 1]\":\n",
    "            return [random.uniform(0, 1) for _ in range(N)]\n",
    "        case \"Uniform[-1, 1]\":\n",
    "            return [random.uniform(0, 1) * 2 - 1 for _ in range(N)]\n",
    "        case \"2xUniform[-1, 1]\":\n",
    "            t = generate_n_random_numbers(2 * N, \"Uniform[-1, 1]\")\n",
    "            return [t[2 * i] + t[2 * i + 1] for i in range(N)]\n",
    "        case \"3xUniform[-1, 1]\":\n",
    "            t = generate_n_random_numbers(3 * N, \"Uniform[-1, 1]\")\n",
    "            return [t[3 * i] + t[3 * i + 1] + t[3 * i + 2] for i in range(N)]\n",
    "        case \"Cauchy(0, 1)\":\n",
    "            t = generate_n_random_numbers(N, \"Uniform[0, 1]\")\n",
    "            return list(map(lambda x: math.tan(math.pi * (x - 0.5)), t))\n",
    "        case \"Norm(0, 1)\":\n",
    "            return [random.normalvariate(0, 1) for _ in range(N)]\n",
    "        case _:\n",
    "            return []"
   ]
  },
  {
   "cell_type": "code",
   "execution_count": 3,
   "metadata": {},
   "outputs": [
    {
     "name": "stdout",
     "output_type": "stream",
     "text": [
      "[50, 88, 158, 281, 500]\n"
     ]
    }
   ],
   "source": [
    "P = 0.95\n",
    "PERCENTILE = ((1 - P) / 2) * 100\n",
    "norm_quantile = sps.norm(loc=0, scale=1).ppf((1 + P) / 2)\n",
    "ANALYTICAL_EXPECTATION = 0\n",
    "ANALYTICAL_MEDIAN = 0\n",
    "ITERATIONS = 10 ** 4\n",
    "BOOTSTRAP_SIZE = 1000\n",
    "DISTROS = [\"Uniform[-1, 1]\", \"Norm(0, 1)\", \"2xUniform[-1, 1]\"]\n",
    "# NS = [10, 100, 500]\n",
    "min_sample_size = 50\n",
    "max_sample_size = 500\n",
    "num_of_sample_sizes = 5\n",
    "BASE = 5\n",
    "# NS = list(map(int, np.linspace(min_sample_size, max_sample_size, num_of_sample_sizes)))\n",
    "NS = list(map(int, np.logspace(base=BASE, start=math.log(min_sample_size, BASE), stop=math.log(max_sample_size, BASE), num=num_of_sample_sizes)))\n",
    "print(NS)"
   ]
  },
  {
   "cell_type": "code",
   "execution_count": 4,
   "metadata": {},
   "outputs": [],
   "source": [
    "ANALYTICAL_MADS = {d: 0.0 for d in DISTROS}"
   ]
  },
  {
   "cell_type": "markdown",
   "metadata": {},
   "source": [
    "Для того чтобы оценить, сколько доверительных интервалов на самом деле содержат реальные MAD, нужно их сначала найти для наших распределений.\n",
    "Мы знаем, что\n",
    "$$\\text{MAD}(X) = \\text{median}(|X-\\text{median}(X)|)$$\n",
    "Поскольку для каждого из наших распределений медиана равна нулю, то\n",
    "$$\\text{MAD}(X) = \\text{median}(|X|)$$\n",
    "Найти это легко для $\\text{Uniform}[-1, 1]$, поскольку его модуль превращается просто в $\\text{Uniform}[0, 1]$, а значит его $\\text{MAD} = 0.5$."
   ]
  },
  {
   "cell_type": "code",
   "execution_count": 5,
   "metadata": {},
   "outputs": [],
   "source": [
    "ANALYTICAL_MADS[\"Uniform[-1, 1]\"] = 0.5"
   ]
  },
  {
   "cell_type": "markdown",
   "metadata": {},
   "source": [
    "Уже несколько сложнее для $\\text{Norm}(0, 1)$. Найдём функцию распределения модуля стандартного распределения. \n",
    "$$F_{|Norm(0, 1)|}(t) = \\int_{-\\infty}^t p_{|Norm(0, 1)|}(x)dx = \\int_{-\\infty}^t (p_{Norm(0, 1)}(x) + p_{Norm(0, 1)}(-x)) \\cdot \\mathbb{1}_{[0, +\\infty)}(x) dx = 2 \\cdot \\int_{0}^t p_{Norm(0, 1)}(x) dx =$$\n",
    "$$[t \\geqslant 0] = 2 \\cdot \\left(\\int_{-\\infty}^t p_{Norm(0, 1)}(x) dx - \\int_{-\\infty}^0 p_{Norm(0,1)} dx\\right) = 2\\cdot (\\Phi(t) - 0.5) = 2\\Phi(t) - 1$$\n",
    "в силу симметричности стандартного нормального распределения.\n",
    "\n",
    "По определению, медиана $m: \\; \\mathbb{P}(\\xi \\leqslant m) = \\frac{1}{2}$, то есть $F(m) = \\frac{1}{2}$. Для модуля стандартного нормального распределения это $$2\\Phi(m) - 1 = \\frac{1}{2} \\Rightarrow \\Phi(m) = 0.75 \\Rightarrow m \\text{ - }75\\%\\text{-ая квантиль Norm}(0, 1).$$"
   ]
  },
  {
   "cell_type": "code",
   "execution_count": 6,
   "metadata": {},
   "outputs": [],
   "source": [
    "ANALYTICAL_MADS[\"Norm(0, 1)\"] = sps.norm.ppf(0.75, loc=0, scale=1)"
   ]
  },
  {
   "cell_type": "markdown",
   "metadata": {},
   "source": [
    "Для $2\\cdot \\text{Uniform[-1, 1]}$ нужно найти функцию распределения и по ней бинпоиском медиану. Для этого проинтегрируем свёртку плотностей равномерных распределений, то есть\n",
    "$$\\xi, \\eta \\sim \\text{Uniform[-1, 1]}$$\n",
    "$$F_{\\xi + \\eta}(t) = \\int_{-\\infty}^t p_{\\xi + \\eta}(x) dx = \\int_{-\\infty}^t \\int_{\\mathbb{R}} p_\\xi(y)\\cdot p_\\eta(x-y)dy dx$$\n",
    "Внутренний интеграл легко посчитать и аналитически записать полученную функцию. \n",
    "\n",
    "Чтобы получить плотность распределения $|2 \\cdot \\text{Uniform}[-1, 1]|$ в точке $t$, сложим плотности в точках $-t$ и $t$, при условии $0 \\leqslant t$. Итого можем посчитать функцию распределения модуля суммы двух равномерных распределений:"
   ]
  },
  {
   "cell_type": "code",
   "execution_count": 7,
   "metadata": {},
   "outputs": [],
   "source": [
    "def uniform_sum_pdf(t: float) -> float:\n",
    "    if t <= -2 or t >= 2:\n",
    "        return 0\n",
    "    if -2 < t <= 0:\n",
    "        return (2 + t) / 4\n",
    "    return (2 - t) / 4\n",
    "\n",
    "def abs_uniform_sum_pdf(t):\n",
    "    return uniform_sum_pdf(t) + uniform_sum_pdf(-t) if t >= 0 else 0\n",
    "\n",
    "def uniform_sum_cdf(t):\n",
    "    return integrate.quad(uniform_sum_pdf, -np.inf, t)[0]\n",
    "\n",
    "def abs_uniform_sum_cdf(t):\n",
    "    return integrate.quad(abs_uniform_sum_pdf, -np.inf, t)[0]"
   ]
  },
  {
   "cell_type": "code",
   "execution_count": 8,
   "metadata": {},
   "outputs": [],
   "source": [
    "def binary_search_median(cdf, lower_bound, upper_bound, tol=1e-6):\n",
    "    while upper_bound - lower_bound > tol:\n",
    "        mid = (lower_bound + upper_bound) / 2\n",
    "        if cdf(mid) < 0.5:\n",
    "            lower_bound = mid\n",
    "        else:\n",
    "            upper_bound = mid\n",
    "    return (lower_bound + upper_bound) / 2"
   ]
  },
  {
   "cell_type": "code",
   "execution_count": 9,
   "metadata": {},
   "outputs": [],
   "source": [
    "ANALYTICAL_MADS[\"2xUniform[-1, 1]\"] = binary_search_median(abs_uniform_sum_cdf, 0, 2, tol=1e-10)"
   ]
  },
  {
   "cell_type": "markdown",
   "metadata": {},
   "source": [
    "Визуализация для наглядности"
   ]
  },
  {
   "cell_type": "code",
   "execution_count": 10,
   "metadata": {},
   "outputs": [
    {
     "data": {
      "image/png": "[encoded data removed]",
      "text/plain": [
       "<Figure size 640x480 with 1 Axes>"
      ]
     },
     "metadata": {},
     "output_type": "display_data"
    }
   ],
   "source": [
    "x = np.linspace(-1, 3, 200)\n",
    "y1 = [abs_uniform_sum_pdf(t) for t in x]\n",
    "y2 = [abs_uniform_sum_cdf(t) for t in x]\n",
    "    \n",
    "plt.plot(x, y1, label='|2 x Uniform[-1, 1]| Density')\n",
    "plt.plot(x, y2, label='|2 x Uniform[-1, 1]| CDF')\n",
    "plt.plot(ANALYTICAL_MADS[\"2xUniform[-1, 1]\"], abs_uniform_sum_cdf(ANALYTICAL_MADS[\"2xUniform[-1, 1]\"]), '-o', label='MAD')\n",
    "plt.legend()\n",
    "plt.show()"
   ]
  },
  {
   "cell_type": "code",
   "execution_count": 11,
   "metadata": {},
   "outputs": [
    {
     "name": "stdout",
     "output_type": "stream",
     "text": [
      "{'Uniform[-1, 1]': 0.5, 'Norm(0, 1)': np.float64(0.6744897501960817), '2xUniform[-1, 1]': 0.5857864380523097}\n"
     ]
    }
   ],
   "source": [
    "print(ANALYTICAL_MADS)"
   ]
  },
  {
   "cell_type": "markdown",
   "metadata": {},
   "source": [
    "Функции подсчёта доверительного интервала для MAD (Median Absolute Deviation)"
   ]
  },
  {
   "cell_type": "code",
   "execution_count": 12,
   "metadata": {},
   "outputs": [],
   "source": [
    "def bootstrap_confidence_interval(sample, statistic, confidence_probability = 0.95) -> tuple:\n",
    "    bootstrap_estimates = [statistic(np.random.choice(sample, size=len(sample), replace=True)) for _ in range(BOOTSTRAP_SIZE)]\n",
    "    return (np.percentile(bootstrap_estimates, ((1 - confidence_probability) / 2) * 100),\n",
    "            np.percentile(bootstrap_estimates, 100 - ((1 - confidence_probability) / 2) * 100))"
   ]
  },
  {
   "cell_type": "code",
   "execution_count": 13,
   "metadata": {},
   "outputs": [],
   "source": [
    "from functools import lru_cache\n",
    "@lru_cache\n",
    "def z_score(confidence_probability: float) -> float:\n",
    "    return np.sqrt(2) * special.erfinv(confidence_probability)\n",
    "\n",
    "def jackknife_confidence_interval(sample, statistic, confidence_probability = 0.95) -> tuple[float, float]:\n",
    "    n = len(sample)\n",
    "    jackknife_estimates = [statistic(np.delete(sample, i)) for i in range(n)]\n",
    "    jackknife_mean = np.mean(jackknife_estimates)\n",
    "    jackknife_std_err = np.sqrt((n - 1) * np.mean((jackknife_estimates - jackknife_mean) ** 2))\n",
    "    term = z_score(confidence_probability) * jackknife_std_err\n",
    "    return (jackknife_mean - term, jackknife_mean + term)"
   ]
  },
  {
   "cell_type": "markdown",
   "metadata": {},
   "source": [
    "Сгенерируем по $10^4$ выборок разных размеров для каждого распределения и проверим, какая доля из них будет попадать в доверительный интервал для MAD, посчитав доверительный интервал для этой доли."
   ]
  },
  {
   "cell_type": "code",
   "execution_count": 14,
   "metadata": {},
   "outputs": [],
   "source": [
    "methods = [\"bootstrap\", \"jackknife\"]\n",
    "NUM_METHODS = len(methods)\n",
    "methods_functions = {\"bootstrap\": bootstrap_confidence_interval, \"jackknife\": jackknife_confidence_interval}"
   ]
  },
  {
   "cell_type": "code",
   "execution_count": 15,
   "metadata": {},
   "outputs": [
    {
     "name": "stdout",
     "output_type": "stream",
     "text": [
      "Start generating samples...\n"
     ]
    },
    {
     "name": "stderr",
     "output_type": "stream",
     "text": [
      "100%|██████████| 3/3 [00:18<00:00,  6.03s/it]"
     ]
    },
    {
     "name": "stdout",
     "output_type": "stream",
     "text": [
      "Samples generated.\n"
     ]
    },
    {
     "name": "stderr",
     "output_type": "stream",
     "text": [
      "\n"
     ]
    }
   ],
   "source": [
    "print(\"Start generating samples...\")\n",
    "samples = {d: [[generate_n_random_numbers(n, d) for _ in range(ITERATIONS)]\n",
    "                for n in NS] for d in tqdm(DISTROS)}\n",
    "print(\"Samples generated.\")"
   ]
  },
  {
   "cell_type": "markdown",
   "metadata": {},
   "source": [
    "Теперь приступим к подсчёту доверительных интервалов для MAD"
   ]
  },
  {
   "cell_type": "code",
   "execution_count": 16,
   "metadata": {},
   "outputs": [
    {
     "name": "stdout",
     "output_type": "stream",
     "text": [
      "Distribution Uniform[-1, 1], samples size = 50\n",
      "    Bootstrap:\n"
     ]
    },
    {
     "name": "stderr",
     "output_type": "stream",
     "text": [
      "100%|██████████| 10000/10000 [12:49<00:00, 12.99it/s]\n"
     ]
    },
    {
     "name": "stdout",
     "output_type": "stream",
     "text": [
      "    Jackknife:\n"
     ]
    },
    {
     "name": "stderr",
     "output_type": "stream",
     "text": [
      "100%|██████████| 10000/10000 [00:34<00:00, 289.73it/s]\n"
     ]
    },
    {
     "name": "stdout",
     "output_type": "stream",
     "text": [
      "Distribution Uniform[-1, 1], samples size = 88\n",
      "    Bootstrap:\n"
     ]
    },
    {
     "name": "stderr",
     "output_type": "stream",
     "text": [
      "100%|██████████| 10000/10000 [13:04<00:00, 12.76it/s]\n"
     ]
    },
    {
     "name": "stdout",
     "output_type": "stream",
     "text": [
      "    Jackknife:\n"
     ]
    },
    {
     "name": "stderr",
     "output_type": "stream",
     "text": [
      "100%|██████████| 10000/10000 [01:02<00:00, 160.88it/s]\n"
     ]
    },
    {
     "name": "stdout",
     "output_type": "stream",
     "text": [
      "Distribution Uniform[-1, 1], samples size = 158\n",
      "    Bootstrap:\n"
     ]
    },
    {
     "name": "stderr",
     "output_type": "stream",
     "text": [
      "100%|██████████| 10000/10000 [13:48<00:00, 12.06it/s]\n"
     ]
    },
    {
     "name": "stdout",
     "output_type": "stream",
     "text": [
      "    Jackknife:\n"
     ]
    },
    {
     "name": "stderr",
     "output_type": "stream",
     "text": [
      "100%|██████████| 10000/10000 [01:54<00:00, 86.97it/s]\n"
     ]
    },
    {
     "name": "stdout",
     "output_type": "stream",
     "text": [
      "Distribution Uniform[-1, 1], samples size = 281\n",
      "    Bootstrap:\n"
     ]
    },
    {
     "name": "stderr",
     "output_type": "stream",
     "text": [
      "100%|██████████| 10000/10000 [15:20<00:00, 10.86it/s]\n"
     ]
    },
    {
     "name": "stdout",
     "output_type": "stream",
     "text": [
      "    Jackknife:\n"
     ]
    },
    {
     "name": "stderr",
     "output_type": "stream",
     "text": [
      "100%|██████████| 10000/10000 [03:38<00:00, 45.83it/s]\n"
     ]
    },
    {
     "name": "stdout",
     "output_type": "stream",
     "text": [
      "Distribution Uniform[-1, 1], samples size = 500\n",
      "    Bootstrap:\n"
     ]
    },
    {
     "name": "stderr",
     "output_type": "stream",
     "text": [
      "100%|██████████| 10000/10000 [16:38<00:00, 10.02it/s]\n"
     ]
    },
    {
     "name": "stdout",
     "output_type": "stream",
     "text": [
      "    Jackknife:\n"
     ]
    },
    {
     "name": "stderr",
     "output_type": "stream",
     "text": [
      "100%|██████████| 10000/10000 [06:55<00:00, 24.10it/s]\n"
     ]
    },
    {
     "name": "stdout",
     "output_type": "stream",
     "text": [
      "----------------------------------------\n",
      "Distribution Norm(0, 1), samples size = 50\n",
      "    Bootstrap:\n"
     ]
    },
    {
     "name": "stderr",
     "output_type": "stream",
     "text": [
      "100%|██████████| 10000/10000 [12:55<00:00, 12.89it/s]\n"
     ]
    },
    {
     "name": "stdout",
     "output_type": "stream",
     "text": [
      "    Jackknife:\n"
     ]
    },
    {
     "name": "stderr",
     "output_type": "stream",
     "text": [
      "100%|██████████| 10000/10000 [00:35<00:00, 285.56it/s]\n"
     ]
    },
    {
     "name": "stdout",
     "output_type": "stream",
     "text": [
      "Distribution Norm(0, 1), samples size = 88\n",
      "    Bootstrap:\n"
     ]
    },
    {
     "name": "stderr",
     "output_type": "stream",
     "text": [
      "100%|██████████| 10000/10000 [13:12<00:00, 12.62it/s]\n"
     ]
    },
    {
     "name": "stdout",
     "output_type": "stream",
     "text": [
      "    Jackknife:\n"
     ]
    },
    {
     "name": "stderr",
     "output_type": "stream",
     "text": [
      "100%|██████████| 10000/10000 [01:02<00:00, 159.29it/s]\n"
     ]
    },
    {
     "name": "stdout",
     "output_type": "stream",
     "text": [
      "Distribution Norm(0, 1), samples size = 158\n",
      "    Bootstrap:\n"
     ]
    },
    {
     "name": "stderr",
     "output_type": "stream",
     "text": [
      "100%|██████████| 10000/10000 [13:58<00:00, 11.93it/s]\n"
     ]
    },
    {
     "name": "stdout",
     "output_type": "stream",
     "text": [
      "    Jackknife:\n"
     ]
    },
    {
     "name": "stderr",
     "output_type": "stream",
     "text": [
      "100%|██████████| 10000/10000 [01:56<00:00, 86.02it/s]\n"
     ]
    },
    {
     "name": "stdout",
     "output_type": "stream",
     "text": [
      "Distribution Norm(0, 1), samples size = 281\n",
      "    Bootstrap:\n"
     ]
    },
    {
     "name": "stderr",
     "output_type": "stream",
     "text": [
      "100%|██████████| 10000/10000 [15:18<00:00, 10.88it/s]\n"
     ]
    },
    {
     "name": "stdout",
     "output_type": "stream",
     "text": [
      "    Jackknife:\n"
     ]
    },
    {
     "name": "stderr",
     "output_type": "stream",
     "text": [
      "100%|██████████| 10000/10000 [03:37<00:00, 45.91it/s]\n"
     ]
    },
    {
     "name": "stdout",
     "output_type": "stream",
     "text": [
      "Distribution Norm(0, 1), samples size = 500\n",
      "    Bootstrap:\n"
     ]
    },
    {
     "name": "stderr",
     "output_type": "stream",
     "text": [
      "100%|██████████| 10000/10000 [16:29<00:00, 10.11it/s]\n"
     ]
    },
    {
     "name": "stdout",
     "output_type": "stream",
     "text": [
      "    Jackknife:\n"
     ]
    },
    {
     "name": "stderr",
     "output_type": "stream",
     "text": [
      "100%|██████████| 10000/10000 [06:53<00:00, 24.19it/s]\n"
     ]
    },
    {
     "name": "stdout",
     "output_type": "stream",
     "text": [
      "----------------------------------------\n",
      "Distribution 2xUniform[-1, 1], samples size = 50\n",
      "    Bootstrap:\n"
     ]
    },
    {
     "name": "stderr",
     "output_type": "stream",
     "text": [
      "100%|██████████| 10000/10000 [12:55<00:00, 12.89it/s]\n"
     ]
    },
    {
     "name": "stdout",
     "output_type": "stream",
     "text": [
      "    Jackknife:\n"
     ]
    },
    {
     "name": "stderr",
     "output_type": "stream",
     "text": [
      "100%|██████████| 10000/10000 [00:35<00:00, 285.30it/s]\n"
     ]
    },
    {
     "name": "stdout",
     "output_type": "stream",
     "text": [
      "Distribution 2xUniform[-1, 1], samples size = 88\n",
      "    Bootstrap:\n"
     ]
    },
    {
     "name": "stderr",
     "output_type": "stream",
     "text": [
      "100%|██████████| 10000/10000 [13:09<00:00, 12.67it/s]\n"
     ]
    },
    {
     "name": "stdout",
     "output_type": "stream",
     "text": [
      "    Jackknife:\n"
     ]
    },
    {
     "name": "stderr",
     "output_type": "stream",
     "text": [
      "100%|██████████| 10000/10000 [01:02<00:00, 159.99it/s]\n"
     ]
    },
    {
     "name": "stdout",
     "output_type": "stream",
     "text": [
      "Distribution 2xUniform[-1, 1], samples size = 158\n",
      "    Bootstrap:\n"
     ]
    },
    {
     "name": "stderr",
     "output_type": "stream",
     "text": [
      "100%|██████████| 10000/10000 [13:55<00:00, 11.97it/s]\n"
     ]
    },
    {
     "name": "stdout",
     "output_type": "stream",
     "text": [
      "    Jackknife:\n"
     ]
    },
    {
     "name": "stderr",
     "output_type": "stream",
     "text": [
      "100%|██████████| 10000/10000 [01:55<00:00, 86.29it/s]\n"
     ]
    },
    {
     "name": "stdout",
     "output_type": "stream",
     "text": [
      "Distribution 2xUniform[-1, 1], samples size = 281\n",
      "    Bootstrap:\n"
     ]
    },
    {
     "name": "stderr",
     "output_type": "stream",
     "text": [
      "100%|██████████| 10000/10000 [15:14<00:00, 10.93it/s]\n"
     ]
    },
    {
     "name": "stdout",
     "output_type": "stream",
     "text": [
      "    Jackknife:\n"
     ]
    },
    {
     "name": "stderr",
     "output_type": "stream",
     "text": [
      "100%|██████████| 10000/10000 [03:37<00:00, 45.94it/s]\n"
     ]
    },
    {
     "name": "stdout",
     "output_type": "stream",
     "text": [
      "Distribution 2xUniform[-1, 1], samples size = 500\n",
      "    Bootstrap:\n"
     ]
    },
    {
     "name": "stderr",
     "output_type": "stream",
     "text": [
      "100%|██████████| 10000/10000 [16:29<00:00, 10.10it/s]\n"
     ]
    },
    {
     "name": "stdout",
     "output_type": "stream",
     "text": [
      "    Jackknife:\n"
     ]
    },
    {
     "name": "stderr",
     "output_type": "stream",
     "text": [
      "100%|██████████| 10000/10000 [06:51<00:00, 24.28it/s]"
     ]
    },
    {
     "name": "stdout",
     "output_type": "stream",
     "text": [
      "----------------------------------------\n"
     ]
    },
    {
     "name": "stderr",
     "output_type": "stream",
     "text": [
      "\n"
     ]
    }
   ],
   "source": [
    "results = {d: {m + g: [] for m in methods for g in ['_intervals', '_points']} for d in DISTROS}\n",
    "for i, d in enumerate(DISTROS):\n",
    "    for n_id, n in enumerate(NS):\n",
    "        print(f\"Distribution {d}, samples size = {n}\")\n",
    "        for method in methods:\n",
    "            print(f\"    {method.capitalize()}:\")\n",
    "            hits_counter = 0\n",
    "            for sample in tqdm(samples[d][n_id]):\n",
    "                d_left, d_right = methods_functions[method](sample=sample, statistic=sps.median_abs_deviation)\n",
    "                hits_counter += d_left <= ANALYTICAL_MADS[d] <= d_right\n",
    "                \n",
    "            results[d][method + \"_intervals\"].append(proportion_confint(hits_counter, ITERATIONS, alpha=1 - P, method='normal'))\n",
    "            results[d][method + \"_points\"].append(hits_counter / ITERATIONS)\n",
    "    print('-' * 40)"
   ]
  },
  {
   "cell_type": "code",
   "execution_count": 18,
   "metadata": {},
   "outputs": [
    {
     "data": {
      "image/png": "[encoded data removed]",
      "text/plain": [
       "<Figure size 1000x1200 with 6 Axes>"
      ]
     },
     "metadata": {},
     "output_type": "display_data"
    }
   ],
   "source": [
    "_, axis = plt.subplots(len(DISTROS), NUM_METHODS, figsize=(5 * NUM_METHODS, 4 * len(DISTROS)))\n",
    "max_y, min_y = 0.0, 10.0\n",
    "for i, d in enumerate(DISTROS):\n",
    "    for method_id, method in enumerate(methods):\n",
    "        for interval_id, interval in enumerate(results[d][method + \"_intervals\"]):\n",
    "            axis[i][method_id].plot([NS[interval_id]] * 2, list(interval), alpha=.5, linewidth=1, color='C0')\n",
    "            max_y, min_y = max(max_y, interval[1]), min(min_y, interval[0])\n",
    "        axis[i][method_id].plot(NS, results[d][method + \"_points\"], '-o', alpha=1, color='C0')         \n",
    "        axis[i][method_id].plot(NS, [0.95] * len(NS), color='gray', alpha=.5, linestyle='--')         \n",
    "        axis[i][method_id].set_xscale('log')\n",
    "        axis[i][method_id].set_ylim([0.85, 1.05])\n",
    "        axis[0][method_id].title.set_text(method.capitalize())\n",
    "    axis[i][0].set_ylabel(d)\n",
    "for i in range(len(DISTROS)):\n",
    "    for j in range(len(methods)):\n",
    "        axis[i][j].set_ylim([min_y - 0.005, max_y + 0.005])\n",
    "plt.show()"
   ]
  },
  {
   "cell_type": "code",
   "execution_count": null,
   "metadata": {},
   "outputs": [],
   "source": []
  }
 ],
 "metadata": {
  "kernelspec": {
   "display_name": "venv",
   "language": "python",
   "name": "python3"
  },
  "language_info": {
   "codemirror_mode": {
    "name": "ipython",
    "version": 3
   },
   "file_extension": ".py",
   "mimetype": "text/x-python",
   "name": "python",
   "nbconvert_exporter": "python",
   "pygments_lexer": "ipython3",
   "version": "3.10.12"
  }
 },
 "nbformat": 4,
 "nbformat_minor": 2
}
