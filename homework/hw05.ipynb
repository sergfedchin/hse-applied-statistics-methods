{
 "cells": [
  {
   "cell_type": "markdown",
   "metadata": {},
   "source": [
    "# 04.10.2024"
   ]
  },
  {
   "cell_type": "code",
   "execution_count": 1,
   "metadata": {},
   "outputs": [],
   "source": [
    "import matplotlib.pyplot as plt\n",
    "import scipy.stats as sps\n",
    "import scipy.special as special\n",
    "import scipy.integrate as integrate\n",
    "from statsmodels.stats.proportion import proportion_confint\n",
    "import numpy as np\n",
    "import math\n",
    "from tqdm import tqdm\n",
    "\n",
    "import os, sys\n",
    "practice_dir = os.path.join(os.path.dirname(os.path.abspath('')), 'practice')\n",
    "if not practice_dir in sys.path:\n",
    "    sys.path.append(practice_dir)\n",
    "from utils import generate_n_random_numbers"
   ]
  },
  {
   "cell_type": "markdown",
   "metadata": {},
   "source": [
    "Экспериментально проверим достаточность размера выборки, необходимого для получения оценки математического ожидания (в случае неизвестной дисперсии)"
   ]
  },
  {
   "cell_type": "code",
   "execution_count": 2,
   "metadata": {},
   "outputs": [
    {
     "name": "stdout",
     "output_type": "stream",
     "text": [
      "[20, 58, 170, 500]\n"
     ]
    }
   ],
   "source": [
    "P = 0.95\n",
    "ANALYTICAL_EXPECTATION = 0\n",
    "DISTROS = [\"Uniform[-1, 1]\", \"Norm(0, 1)\", \"2xUniform[-1, 1]\"]"
   ]
  },
  {
   "cell_type": "code",
   "execution_count": 4,
   "metadata": {},
   "outputs": [],
   "source": [
    "from functools import lru_cache\n",
    "\n",
    "@lru_cache\n",
    "def norm_quantile(p: float, loc=0, scale=1) -> float:\n",
    "    return float(sps.norm.ppf(p, loc=loc, scale=scale))\n",
    "\n",
    "@lru_cache\n",
    "def student_quantile(p: float, n: int) -> float:\n",
    "    return float(sps.t.ppf(p, n))\n",
    "\n",
    "@lru_cache\n",
    "def chi_squared_quantile(p: float, n: int) -> float:\n",
    "    return sps.chi2.ppf(p, n)"
   ]
  },
  {
   "cell_type": "code",
   "execution_count": 27,
   "metadata": {},
   "outputs": [],
   "source": [
    "def sigma_squared_estimate(sample: list) -> float:\n",
    "    x_mean = np.mean(sample)\n",
    "    return sum([pow(xi - x_mean, 2) for xi in sample]) / (len(sample) - 1)\n",
    "\n",
    "def expectation_confidence_interval_2(sample: list, confidence_probability=P) -> tuple:\n",
    "    n = len(sample)\n",
    "    x_mean = np.mean(sample)\n",
    "    term = student_quantile((1 + confidence_probability) / 2, n - 1) * math.sqrt(sigma_squared_estimate(sample) / n) \n",
    "    return (x_mean - term, x_mean + term)\n",
    "\n",
    "def sigma_squared_confidence_interval(sample: list, confidence_probability=P) -> tuple:\n",
    "    deviation_estimate = sigma_squared_estimate(sample)\n",
    "    n = len(sample)\n",
    "    return (deviation_estimate * (n - 1) / chi_squared_quantile((1 + confidence_probability) / 2, n - 1), \n",
    "            deviation_estimate * (n - 1) / chi_squared_quantile((1 - confidence_probability) / 2, n - 1))"
   ]
  },
  {
   "cell_type": "markdown",
   "metadata": {},
   "source": [
    "Функция нахождения минимального достаточного размера выборки при неизвестной дисперсии"
   ]
  },
  {
   "cell_type": "code",
   "execution_count": 37,
   "metadata": {},
   "outputs": [],
   "source": [
    "def calculate_sufficient_sample_size_no_sigma(distribution, delta: float, iterations=1, confidence_probability=P) -> int:\n",
    "    def n_estimate_iteration(n_initial: int, last_iteration: True):\n",
    "        min_sample = generate_n_random_numbers(n_initial, distribution)\n",
    "        deviation_min, deviation_max = sigma_squared_confidence_interval(min_sample)\n",
    "        # print(deviation_min, deviation_max)\n",
    "        return int(math.ceil((deviation_max if last_iteration else deviation_min) * pow(student_quantile((1 + confidence_probability) / 2, n_initial - 1) / delta, 2)))\n",
    "\n",
    "    n_min = 5\n",
    "    for it in range(iterations):\n",
    "        n_min = n_estimate_iteration(n_min, last_iteration=(it == iterations - 1))\n",
    "    return n_min"
   ]
  },
  {
   "cell_type": "code",
   "execution_count": 54,
   "metadata": {},
   "outputs": [
    {
     "data": {
      "text/plain": [
       "[np.float64(0.1), np.float64(0.01), np.float64(0.001)]"
      ]
     },
     "execution_count": 54,
     "metadata": {},
     "output_type": "execute_result"
    }
   ],
   "source": [
    "methods = ['non-iterative', 'iterative']\n",
    "method_to_iterations = {'non-iterative': 1, 'iterative': 3}\n",
    "DELTAS = list(np.logspace(-1, -3, base=10, num = 3))\n",
    "ITERATIONS = 10 ** 3\n",
    "DELTAS"
   ]
  },
  {
   "cell_type": "code",
   "execution_count": 55,
   "metadata": {},
   "outputs": [
    {
     "name": "stdout",
     "output_type": "stream",
     "text": [
      "Sufficient n for Uniform[-1, 1] and delta 0.1 found by non-iterative method is 598\n",
      "Sufficient n for Uniform[-1, 1] and delta 0.1 found by iterative method is 185\n"
     ]
    },
    {
     "name": "stderr",
     "output_type": "stream",
     "text": [
      "100%|██████████| 1000/1000 [00:00<00:00, 7840.83it/s]\n"
     ]
    },
    {
     "name": "stdout",
     "output_type": "stream",
     "text": [
      "Sufficient n for Uniform[-1, 1] and delta 0.01 found by non-iterative method is 281979\n",
      "Sufficient n for Uniform[-1, 1] and delta 0.01 found by iterative method is 13142\n"
     ]
    },
    {
     "name": "stderr",
     "output_type": "stream",
     "text": [
      "100%|██████████| 1000/1000 [00:07<00:00, 126.34it/s]\n"
     ]
    },
    {
     "name": "stdout",
     "output_type": "stream",
     "text": [
      "Sufficient n for Uniform[-1, 1] and delta 0.001 found by non-iterative method is 14822470\n",
      "Sufficient n for Uniform[-1, 1] and delta 0.001 found by iterative method is 1283574\n"
     ]
    },
    {
     "name": "stderr",
     "output_type": "stream",
     "text": [
      "100%|██████████| 1000/1000 [13:09<00:00,  1.27it/s]\n"
     ]
    },
    {
     "name": "stdout",
     "output_type": "stream",
     "text": [
      "Sufficient n for Norm(0, 1) and delta 0.1 found by non-iterative method is 7545\n",
      "Sufficient n for Norm(0, 1) and delta 0.1 found by iterative method is 396\n"
     ]
    },
    {
     "name": "stderr",
     "output_type": "stream",
     "text": [
      "100%|██████████| 1000/1000 [00:00<00:00, 2536.56it/s]\n"
     ]
    },
    {
     "name": "stdout",
     "output_type": "stream",
     "text": [
      "Sufficient n for Norm(0, 1) and delta 0.01 found by non-iterative method is 409584\n",
      "Sufficient n for Norm(0, 1) and delta 0.01 found by iterative method is 39258\n"
     ]
    },
    {
     "name": "stderr",
     "output_type": "stream",
     "text": [
      "100%|██████████| 1000/1000 [00:36<00:00, 27.09it/s]\n"
     ]
    },
    {
     "name": "stdout",
     "output_type": "stream",
     "text": [
      "Sufficient n for Norm(0, 1) and delta 0.001 found by non-iterative method is 39876655\n",
      "Sufficient n for Norm(0, 1) and delta 0.001 found by iterative method is 3850336\n"
     ]
    },
    {
     "name": "stderr",
     "output_type": "stream",
     "text": [
      "100%|██████████| 1000/1000 [1:00:31<00:00,  3.63s/it]\n"
     ]
    },
    {
     "name": "stdout",
     "output_type": "stream",
     "text": [
      "Sufficient n for 2xUniform[-1, 1] and delta 0.1 found by non-iterative method is 4304\n",
      "Sufficient n for 2xUniform[-1, 1] and delta 0.1 found by iterative method is 380\n"
     ]
    },
    {
     "name": "stderr",
     "output_type": "stream",
     "text": [
      "100%|██████████| 1000/1000 [00:00<00:00, 2550.36it/s]\n"
     ]
    },
    {
     "name": "stdout",
     "output_type": "stream",
     "text": [
      "Sufficient n for 2xUniform[-1, 1] and delta 0.01 found by non-iterative method is 36948\n",
      "Sufficient n for 2xUniform[-1, 1] and delta 0.01 found by iterative method is 26244\n"
     ]
    },
    {
     "name": "stderr",
     "output_type": "stream",
     "text": [
      "100%|██████████| 1000/1000 [00:25<00:00, 38.76it/s]\n"
     ]
    },
    {
     "name": "stdout",
     "output_type": "stream",
     "text": [
      "Sufficient n for 2xUniform[-1, 1] and delta 0.001 found by non-iterative method is 40299148\n",
      "Sufficient n for 2xUniform[-1, 1] and delta 0.001 found by iterative method is 2568766\n"
     ]
    },
    {
     "name": "stderr",
     "output_type": "stream",
     "text": [
      "100%|██████████| 1000/1000 [42:18<00:00,  2.54s/it]\n"
     ]
    }
   ],
   "source": [
    "results = {d: {g: [] for g in ['intervals', 'points']} for d in DISTROS}\n",
    "for d_id, d in enumerate(DISTROS):\n",
    "    for delta_id, delta in enumerate(DELTAS):\n",
    "        for method in methods:\n",
    "            n = calculate_sufficient_sample_size_no_sigma(d, delta, iterations=method_to_iterations[method])\n",
    "            print(f\"Sufficient n for {d} and delta {delta} found by {method} method is {n}\")\n",
    "            if method != 'iterative':\n",
    "                continue\n",
    "            hits_counter = 0\n",
    "            for _ in tqdm(range(ITERATIONS)):\n",
    "                a, b = expectation_confidence_interval_2(sample=generate_n_random_numbers(n, d))\n",
    "                hits_counter += a <= ANALYTICAL_EXPECTATION <= b\n",
    "            results[d][\"intervals\"].append(proportion_confint(hits_counter, ITERATIONS, alpha=1 - P, method='normal'))\n",
    "            results[d][\"points\"].append(hits_counter / ITERATIONS)"
   ]
  },
  {
   "cell_type": "code",
   "execution_count": 56,
   "metadata": {},
   "outputs": [
    {
     "data": {
      "text/plain": [
       "{'Uniform[-1, 1]': {'intervals': [(0.9467100724424075, 0.9712899275575925),\n",
       "   (0.9455675852261337, 0.9704324147738662),\n",
       "   (0.9342388752630848, 0.9617611247369151)],\n",
       "  'points': [np.float64(0.959), np.float64(0.958), np.float64(0.948)]},\n",
       " 'Norm(0, 1)': {'intervals': [(0.9297495656523327, 0.9582504343476672),\n",
       "   (0.9364918804423794, 0.9635081195576205),\n",
       "   (0.9398827296270256, 0.9661172703729743)],\n",
       "  'points': [np.float64(0.944), np.float64(0.95), np.float64(0.953)]},\n",
       " '2xUniform[-1, 1]': {'intervals': [(0.9342388752630848, 0.9617611247369151),\n",
       "   (0.9376206076526052, 0.9643793923473947),\n",
       "   (0.9331145162248677, 0.9608854837751322)],\n",
       "  'points': [np.float64(0.948), np.float64(0.951), np.float64(0.947)]}}"
      ]
     },
     "execution_count": 56,
     "metadata": {},
     "output_type": "execute_result"
    }
   ],
   "source": [
    "results"
   ]
  },
  {
   "cell_type": "code",
   "execution_count": 57,
   "metadata": {},
   "outputs": [
    {
     "data": {
      "image/png": "[encoded data removed]",
      "text/plain": [
       "<Figure size 1500x400 with 3 Axes>"
      ]
     },
     "metadata": {},
     "output_type": "display_data"
    }
   ],
   "source": [
    "_, axis = plt.subplots(1, len(DISTROS), figsize=(5 * len(DISTROS), 4))\n",
    "max_y, min_y = -np.inf, np.inf\n",
    "y_error_min = []\n",
    "for i, d in enumerate(DISTROS):\n",
    "    y_error = list(map(lambda arr: np.abs(np.subtract(arr, results[d]['points'])), zip(*results[d][\"intervals\"])))\n",
    "    axis[i].errorbar(DELTAS, results[d][\"points\"], yerr=y_error, fmt='o', capsize=3)\n",
    "    axis[i].plot(DELTAS, [P] * len(DELTAS), color='gray', alpha=.5, linestyle='--')   \n",
    "    min_y = min(min_y, np.min(np.subtract(results[d]['points'], y_error[0])))\n",
    "    max_y = max(max_y, np.max(np.add(results[d]['points'], y_error[1])))\n",
    "\n",
    "axis[0].set_ylabel(\"Confidence probability\")\n",
    "for i, d in enumerate(DISTROS):\n",
    "    axis[i].set_xscale('log')\n",
    "    axis[i].set_xlabel('Δ')\n",
    "    axis[i].title.set_text(f\"{d}\")\n",
    "    axis[i].set_ylim([min(min_y, P) - 0.001, max_y + 0.001])"
   ]
  },
  {
   "cell_type": "markdown",
   "metadata": {},
   "source": [
    "Вычисление проводилось только для размера сэмплов, полученных итерационным способом, поскольку после одной итерации $n$ было слишком велико."
   ]
  }
 ],
 "metadata": {
  "kernelspec": {
   "display_name": "venv",
   "language": "python",
   "name": "python3"
  },
  "language_info": {
   "codemirror_mode": {
    "name": "ipython",
    "version": 3
   },
   "file_extension": ".py",
   "mimetype": "text/x-python",
   "name": "python",
   "nbconvert_exporter": "python",
   "pygments_lexer": "ipython3",
   "version": "3.10.12"
  }
 },
 "nbformat": 4,
 "nbformat_minor": 2
}
