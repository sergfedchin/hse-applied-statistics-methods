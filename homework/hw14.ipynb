{
 "cells": [
  {
   "cell_type": "code",
   "execution_count": 1,
   "metadata": {},
   "outputs": [],
   "source": [
    "import numpy as np\n",
    "from collections.abc import Iterable, Sequence, Callable\n",
    "from scipy.optimize import brentq, fsolve\n",
    "from tqdm import tqdm, trange"
   ]
  },
  {
   "cell_type": "markdown",
   "metadata": {},
   "source": [
    "Определим функции и диапазоны параметров"
   ]
  },
  {
   "cell_type": "code",
   "execution_count": 2,
   "metadata": {},
   "outputs": [],
   "source": [
    "ERROR_RATE = 0.05\n",
    "N_DIM = 3\n",
    "PARAM_DIM = 4\n",
    "A_EXACT = np.array([2, 3, -1, 4])"
   ]
  },
  {
   "cell_type": "code",
   "execution_count": 3,
   "metadata": {},
   "outputs": [],
   "source": [
    "def f_1(x: Sequence[float], a: Sequence[float]) -> float:\n",
    "    return x[0]**2 * a[3] + x[1]**2 * a[0] + x[0] + x[2]**3 + x[1] * a[1] + a[2]\n",
    "\n",
    "def f_1_grad(x: Sequence[float], a: Sequence[float]) -> np.ndarray[float]:\n",
    "    return np.array([\n",
    "        2 * x[0] * a[3] + 1,\n",
    "        2 * x[1] * a[0],\n",
    "        3 * x[2] * x[2]\n",
    "    ])\n",
    "\n",
    "def f_2(x: Sequence[float], a: Sequence[float]) -> float:\n",
    "    return x[1]**2 + x[2]**2 + a[1] * x[1] * x[2] - a[0]\n",
    " \n",
    "def f_2_grad(x: Sequence[float], a: Sequence[float]) -> np.ndarray[float]:\n",
    "    return np.array([\n",
    "        type(a[0])(0),\n",
    "        2 * x[1] + x[2] * a[1],\n",
    "        2 * x[2] + x[1] * a[1]\n",
    "    ])\n",
    "\n",
    "def f_3(x: Sequence[float], a: Sequence[float]) -> float:\n",
    "    return a[0] * x[2]**2 + x[0]**2 + x[0] * x[2] - x[1] - a[3]\n",
    "\n",
    "def f_3_grad(x: Sequence[float], a: Sequence[float]) -> np.ndarray[float]:\n",
    "    return np.array([\n",
    "        2 * x[0] + x[2],\n",
    "        type(a[0])(-1),\n",
    "        2 * x[2] * a[0] + x[0]\n",
    "    ])\n",
    "\n",
    "def F(x: Sequence[float], a: Sequence[float]) -> np.ndarray[float]:\n",
    "    return np.array([f_1(x, a), f_2(x, a), f_3(x, a)])\n",
    "\n",
    "def jacobi_F(x: Sequence[float], a: Sequence[float]) -> np.ndarray[float]:\n",
    "    return np.array([f_1_grad(x, a), f_2_grad(x, a), f_3_grad(x, a)])"
   ]
  },
  {
   "cell_type": "code",
   "execution_count": 4,
   "metadata": {},
   "outputs": [
    {
     "data": {
      "text/plain": [
       "[(1.9, 2.1), (2.85, 3.15), (-1.05, -0.95), (3.8, 4.2)]"
      ]
     },
     "execution_count": 4,
     "metadata": {},
     "output_type": "execute_result"
    }
   ],
   "source": [
    "max_deltas = np.abs(A_EXACT * ERROR_RATE)\n",
    "a_measured = A_EXACT + np.array([np.random.uniform(low=-delta, high=delta) for delta in max_deltas])\n",
    "a_interval = list(zip(A_EXACT - max_deltas, A_EXACT + max_deltas))\n",
    "a_interval"
   ]
  },
  {
   "cell_type": "code",
   "execution_count": 5,
   "metadata": {},
   "outputs": [],
   "source": [
    "def derivatives_complex_step(func: Callable[[Sequence[float], Sequence[float]], float | Sequence[float]],\n",
    "                             x_a: Sequence[float],\n",
    "                             h: float = 1e-15\n",
    "                             ) -> np.ndarray[float]:\n",
    "    def f_wrapper(x_a: Sequence[float]):\n",
    "        return func(x_a[:N_DIM], x_a[N_DIM:N_DIM+PARAM_DIM])\n",
    "    x_a = np.array(x_a, dtype=complex)\n",
    "    derivatives = [0.0] * len(x_a)\n",
    "    for i in range(len(x_a)):\n",
    "        x_a[i] += 1j * h\n",
    "        derivatives[i] = f_wrapper(x_a).imag / h\n",
    "        x_a[i] -= 1j * h\n",
    "    return np.array(derivatives)"
   ]
  },
  {
   "cell_type": "markdown",
   "metadata": {},
   "source": [
    "Аналитическая оценка погрешности корней векторнозначной функции $n$ переменных:"
   ]
  },
  {
   "cell_type": "code",
   "execution_count": 6,
   "metadata": {},
   "outputs": [],
   "source": [
    "def analytical_ndim_roots_error_estimate(func: Callable[[Sequence[float], Sequence[float]], Sequence[float]],\n",
    "                                         roots_estimates: Iterable[tuple],\n",
    "                                         params: Sequence[float],\n",
    "                                         params_max_error: Sequence[float],\n",
    "                                         return_intervals: bool = False\n",
    "                                         ) -> list[np.ndarray[float]]:\n",
    "    res = []\n",
    "    for root_estimate in roots_estimates:\n",
    "        root = fsolve(func, root_estimate, args=(params,))\n",
    "        derivatives = derivatives_complex_step(func, np.append(root, params)).T\n",
    "        J_x = derivatives[:,:N_DIM]\n",
    "        J_a = derivatives[:,N_DIM:]\n",
    "        root_errors = np.abs(np.linalg.inv(J_x) @ J_a) @ params_max_error\n",
    "        if return_intervals:\n",
    "            res.append(list(zip(root - root_errors, root + root_errors)))\n",
    "        else:\n",
    "            res.append(root_errors)\n",
    "    return res"
   ]
  },
  {
   "cell_type": "markdown",
   "metadata": {},
   "source": [
    "Функция для каждого указанного корня возвращает список кортежей, которые являются границами значений соответствующих координат вектора корня, учитывая погрешности коэффициентов"
   ]
  },
  {
   "cell_type": "code",
   "execution_count": 7,
   "metadata": {},
   "outputs": [
    {
     "data": {
      "text/plain": [
       "[[(0.8954388073931758, 0.9659393411886912),\n",
       "  (-0.0009565057920609549, 0.17324682226834726),\n",
       "  (-1.6439626313463724, -1.444025613681147)],\n",
       " [(-0.9804060957850156, -0.9309455172822569),\n",
       "  (-0.41949715717808833, -0.1876527127585541),\n",
       "  (-1.077254817986466, -0.8855103221632901)]]"
      ]
     },
     "execution_count": 7,
     "metadata": {},
     "output_type": "execute_result"
    }
   ],
   "source": [
    "analytical_ndim_roots_error_estimate(F, [(1, 0, -1), (-1, 0, -1)], a_measured, max_deltas, return_intervals=True)"
   ]
  },
  {
   "cell_type": "markdown",
   "metadata": {},
   "source": [
    "Точные значения корней на самом деле такие:"
   ]
  },
  {
   "cell_type": "code",
   "execution_count": 8,
   "metadata": {},
   "outputs": [
    {
     "data": {
      "text/plain": [
       "(array([ 0.93068907,  0.08614516, -1.54399412]),\n",
       " array([-0.95567581, -0.30357493, -0.98138257]))"
      ]
     },
     "execution_count": 8,
     "metadata": {},
     "output_type": "execute_result"
    }
   ],
   "source": [
    "fsolve(F, (1, 0, -1), args=(a_measured,)), fsolve(F, (-1, 0, -1), args=(a_measured,))"
   ]
  },
  {
   "cell_type": "markdown",
   "metadata": {},
   "source": [
    "Далее нам придётся находить корни функций на интервалах (по одному на каждом интервале). Определим для удобства соответствующую функцию, применяющую к каждому интервалу солвер `brentq` из `scipy.optimize`."
   ]
  },
  {
   "cell_type": "markdown",
   "metadata": {},
   "source": [
    "Определим метод Монте-Карло нахождения погрешностей корней "
   ]
  },
  {
   "cell_type": "code",
   "execution_count": 9,
   "metadata": {},
   "outputs": [],
   "source": [
    "def monte_carlo_roots_error_estimate(func: Callable[[float, Sequence[float]], float],\n",
    "                                     roots_estimates: Sequence[tuple],\n",
    "                                     params_intervals: Sequence[tuple[float, float]],\n",
    "                                     iterations: int = 10000\n",
    "                                     ) -> list[list[tuple[float, float]]]:\n",
    "    res = []\n",
    "    for root_estimate in roots_estimates:\n",
    "        root_values = []\n",
    "        for _ in trange(iterations):\n",
    "        # generate params\n",
    "            cur_params = [np.random.uniform(*param_boundaries) for param_boundaries in params_intervals]\n",
    "            root = fsolve(func, root_estimate, args=(cur_params,))\n",
    "            root_values.append(root)\n",
    "        res.append(list(zip(np.min(root_values, axis=0), np.max(root_values, axis=0))))\n",
    "    return res"
   ]
  },
  {
   "cell_type": "code",
   "execution_count": 10,
   "metadata": {},
   "outputs": [
    {
     "name": "stderr",
     "output_type": "stream",
     "text": [
      "100%|██████████| 100000/100000 [00:10<00:00, 9647.31it/s]\n",
      "100%|██████████| 100000/100000 [00:09<00:00, 10514.77it/s]\n"
     ]
    },
    {
     "data": {
      "text/plain": [
       "[[(0.8890625682357374, 0.955510847344109),\n",
       "  (-0.017574149842581332, 0.16303942380421288),\n",
       "  (-1.6212585018041061, -1.4239883148693961)],\n",
       " [(-0.978528397820306, -0.9264970741556366),\n",
       "  (-0.4553670155609807, -0.22472583749479894),\n",
       "  (-1.0536479204625964, -0.866426767818298)]]"
      ]
     },
     "execution_count": 10,
     "metadata": {},
     "output_type": "execute_result"
    }
   ],
   "source": [
    "monte_carlo_roots_error_estimate(F, [(1, 0, -1), (-1, 0, -1)], a_interval, iterations=100_000)"
   ]
  },
  {
   "cell_type": "markdown",
   "metadata": {},
   "source": [
    "# EXTRA\n",
    "\n",
    "Я не закончил, но попытался ("
   ]
  },
  {
   "cell_type": "code",
   "execution_count": 11,
   "metadata": {},
   "outputs": [],
   "source": [
    "import os, sys\n",
    "scripts_dir = os.path.join(os.path.dirname(os.path.abspath('')), 'practice')\n",
    "if not scripts_dir in sys.path:\n",
    "    sys.path.append(scripts_dir)\n",
    "from utils import AffineArithmetics, FwdAAD, BwdAAD"
   ]
  },
  {
   "cell_type": "code",
   "execution_count": 12,
   "metadata": {},
   "outputs": [],
   "source": [
    "import intvalpy as ip \n",
    "\n",
    "# Implementation based on\n",
    "# https://www.researchgate.net/publication/282741908_Solving_multidimensional_nonlinear_perturbed_problems_using_interval_Newton_methods?enrichId=rgreq-0e1edeed36e091bdb9fadde0ab05c3e8-XXX&enrichSource=Y292ZXJQYWdlOzI4Mjc0MTkwODtBUzoxMDU0ODQ1Mjc2NTMyNzM2QDE2Mjg1MDYxMjAxMTQ%3D&el=1_x_3&_esc=publicationCoverPdf\n",
    "def interval_newton_root_error_estimate(func: Callable[[float, Sequence[float]], Sequence[float]],\n",
    "                                        jacobi: Callable[[float, Sequence[float]], np.ndarray],\n",
    "                                        root_interval: list[tuple],\n",
    "                                        params_intervals: Sequence[tuple[float, float]],\n",
    "                                        iterations: int = 10):\n",
    "    X_0 = [AffineArithmetics(*coord_interval) for coord_interval in root_interval]\n",
    "    P = [AffineArithmetics(*a) for a in params_intervals]\n",
    "    X_k = X_0\n",
    "    for _ in range(iterations):\n",
    "        J_x = jacobi(X_0, P)\n",
    "        J_x_list = np.zeros((*J_x.shape, 2))\n",
    "        for i in range(J_x.shape[0]):\n",
    "            for j in range(J_x.shape[1]):\n",
    "                J_x_list[i, j] = J_x[i, j].to_list()\n",
    "        A = ip.Interval(J_x_list)\n",
    "        m_X_k = [x.midpoint() for x in X_k]\n",
    "        b = func(m_X_k, P)\n",
    "        print(A)\n",
    "        Z = ip.linear.Gauss_Seidel(A, b)\n",
    "        Z = AffineArithmetics(Z.a, Z.b)\n",
    "        interval_newton_operator = [m + z for m, z in zip(m_X_k, Z)]\n",
    "        X_k = [x.intersect(n) for x, n in zip(X_k, interval_newton_operator)]\n",
    "        print(X_k)"
   ]
  },
  {
   "cell_type": "code",
   "execution_count": 13,
   "metadata": {},
   "outputs": [
    {
     "name": "stdout",
     "output_type": "stream",
     "text": [
      "Interval([['[-7.4, 1.4]', '[-4.2, 0.2]', '[1.5, 12]'],\n",
      "       ['[0, 0]', '[-8.3, -2.7]', '[-7.15, -1.85]'],\n",
      "       ['[-4, -1]', '[-1, -1]', '[-9.4, -3.6]']])\n"
     ]
    },
    {
     "ename": "AssertionError",
     "evalue": "Matrix of the system not an H-matrix",
     "output_type": "error",
     "traceback": [
      "\u001b[0;31m---------------------------------------------------------------------------\u001b[0m",
      "\u001b[0;31mAssertionError\u001b[0m                            Traceback (most recent call last)",
      "Cell \u001b[0;32mIn[13], line 1\u001b[0m\n\u001b[0;32m----> 1\u001b[0m \u001b[43minterval_newton_root_error_estimate\u001b[49m\u001b[43m(\u001b[49m\u001b[43mF\u001b[49m\u001b[43m,\u001b[49m\u001b[43m \u001b[49m\u001b[43mjacobi_F\u001b[49m\u001b[43m,\u001b[49m\u001b[43m \u001b[49m\u001b[43mroot_interval\u001b[49m\u001b[38;5;241;43m=\u001b[39;49m\u001b[43m[\u001b[49m\u001b[43m(\u001b[49m\u001b[38;5;241;43m-\u001b[39;49m\u001b[38;5;241;43m1\u001b[39;49m\u001b[43m,\u001b[49m\u001b[43m \u001b[49m\u001b[38;5;241;43m0\u001b[39;49m\u001b[43m)\u001b[49m\u001b[43m,\u001b[49m\u001b[43m \u001b[49m\u001b[43m(\u001b[49m\u001b[38;5;241;43m-\u001b[39;49m\u001b[38;5;241;43m1\u001b[39;49m\u001b[43m,\u001b[49m\u001b[43m \u001b[49m\u001b[38;5;241;43m0\u001b[39;49m\u001b[43m)\u001b[49m\u001b[43m,\u001b[49m\u001b[43m \u001b[49m\u001b[43m(\u001b[49m\u001b[38;5;241;43m-\u001b[39;49m\u001b[38;5;241;43m2\u001b[39;49m\u001b[43m,\u001b[49m\u001b[43m \u001b[49m\u001b[38;5;241;43m-\u001b[39;49m\u001b[38;5;241;43m1\u001b[39;49m\u001b[43m)\u001b[49m\u001b[43m]\u001b[49m\u001b[43m,\u001b[49m\u001b[43m \u001b[49m\u001b[43mparams_intervals\u001b[49m\u001b[38;5;241;43m=\u001b[39;49m\u001b[43ma_interval\u001b[49m\u001b[43m)\u001b[49m\n",
      "Cell \u001b[0;32mIn[12], line 21\u001b[0m, in \u001b[0;36minterval_newton_root_error_estimate\u001b[0;34m(func, jacobi, root_interval, params_intervals, iterations)\u001b[0m\n\u001b[1;32m     19\u001b[0m b \u001b[38;5;241m=\u001b[39m func(m_X_k, P)\n\u001b[1;32m     20\u001b[0m \u001b[38;5;28mprint\u001b[39m(A)\n\u001b[0;32m---> 21\u001b[0m Z \u001b[38;5;241m=\u001b[39m \u001b[43mip\u001b[49m\u001b[38;5;241;43m.\u001b[39;49m\u001b[43mlinear\u001b[49m\u001b[38;5;241;43m.\u001b[39;49m\u001b[43mGauss_Seidel\u001b[49m\u001b[43m(\u001b[49m\u001b[43mA\u001b[49m\u001b[43m,\u001b[49m\u001b[43m \u001b[49m\u001b[43mb\u001b[49m\u001b[43m)\u001b[49m\n\u001b[1;32m     22\u001b[0m Z \u001b[38;5;241m=\u001b[39m AffineArithmetics(Z\u001b[38;5;241m.\u001b[39ma, Z\u001b[38;5;241m.\u001b[39mb)\n\u001b[1;32m     23\u001b[0m interval_newton_operator \u001b[38;5;241m=\u001b[39m [m \u001b[38;5;241m+\u001b[39m z \u001b[38;5;28;01mfor\u001b[39;00m m, z \u001b[38;5;129;01min\u001b[39;00m \u001b[38;5;28mzip\u001b[39m(m_X_k, Z)]\n",
      "File \u001b[0;32m/mnt/d/Homework/5_semester/МПС/hse-applied-statistics-methods/venv/lib/python3.10/site-packages/intvalpy/linear/Gauss_Seidel.py:54\u001b[0m, in \u001b[0;36mGauss_Seidel\u001b[0;34m(A, b, x0, C, tol, maxiter)\u001b[0m\n\u001b[1;32m     52\u001b[0m v \u001b[38;5;241m=\u001b[39m \u001b[38;5;28mabs\u001b[39m(B \u001b[38;5;241m@\u001b[39m np\u001b[38;5;241m.\u001b[39mones(n))\n\u001b[1;32m     53\u001b[0m u \u001b[38;5;241m=\u001b[39m A \u001b[38;5;241m@\u001b[39m v\n\u001b[0;32m---> 54\u001b[0m \u001b[38;5;28;01massert\u001b[39;00m (u \u001b[38;5;241m>\u001b[39m \u001b[38;5;241m0\u001b[39m)\u001b[38;5;241m.\u001b[39many(), \u001b[38;5;124m'\u001b[39m\u001b[38;5;124mMatrix of the system not an H-matrix\u001b[39m\u001b[38;5;124m'\u001b[39m\n\u001b[1;32m     57\u001b[0m distance \u001b[38;5;241m=\u001b[39m np\u001b[38;5;241m.\u001b[39minf\n\u001b[1;32m     58\u001b[0m result \u001b[38;5;241m=\u001b[39m zeros(n)\n",
      "\u001b[0;31mAssertionError\u001b[0m: Matrix of the system not an H-matrix"
     ]
    }
   ],
   "source": [
    "interval_newton_root_error_estimate(F, jacobi_F, root_interval=[(-1, 0), (-1, 0), (-2, -1)], params_intervals=a_interval)"
   ]
  }
 ],
 "metadata": {
  "kernelspec": {
   "display_name": "venv",
   "language": "python",
   "name": "python3"
  },
  "language_info": {
   "codemirror_mode": {
    "name": "ipython",
    "version": 3
   },
   "file_extension": ".py",
   "mimetype": "text/x-python",
   "name": "python",
   "nbconvert_exporter": "python",
   "pygments_lexer": "ipython3",
   "version": "3.10.12"
  }
 },
 "nbformat": 4,
 "nbformat_minor": 2
}
